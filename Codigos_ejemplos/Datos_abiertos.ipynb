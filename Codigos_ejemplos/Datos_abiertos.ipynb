{
  "nbformat": 4,
  "nbformat_minor": 0,
  "metadata": {
    "colab": {
      "provenance": []
    },
    "kernelspec": {
      "name": "python3",
      "display_name": "Python 3"
    },
    "language_info": {
      "name": "python"
    }
  },
  "cells": [
    {
      "cell_type": "markdown",
      "source": [
        "# Acceso a datos abierto de Mercado Público\n",
        "\n",
        "## En este script se realiza la descarga de la data disponible en Mercado Público. Se genera un archivo csv el cual contiene los datos para el rubro requerido"
      ],
      "metadata": {
        "id": "HAKjNZ2lHilh"
      }
    },
    {
      "cell_type": "markdown",
      "source": [
        "Seleccionar la fecha de inicio y término para la descarga de datos"
      ],
      "metadata": {
        "id": "UoIYS_ClHz8B"
      }
    },
    {
      "cell_type": "code",
      "source": [
        "año_inicio= 2013 #Desde donde se quiere obtener la data\n",
        "año_termino = 2024 #Hasta que fecha se quiere obtener la data"
      ],
      "metadata": {
        "id": "udgTzPjPGvkD"
      },
      "execution_count": null,
      "outputs": []
    },
    {
      "cell_type": "markdown",
      "source": [
        "Descargar los archivos disponibles desde mercado público en formato ZIP"
      ],
      "metadata": {
        "id": "sj4pSqHWH4NC"
      }
    },
    {
      "cell_type": "code",
      "execution_count": null,
      "metadata": {
        "colab": {
          "base_uri": "https://localhost:8080/"
        },
        "id": "PeCUM78DJam2",
        "outputId": "f269445a-7223-4568-e606-03cb295768ab"
      },
      "outputs": [
        {
          "output_type": "stream",
          "name": "stdout",
          "text": [
            "Archivo 2013-1.zip descargado correctamente.\n",
            "Archivo 2013-2.zip descargado correctamente.\n",
            "Archivo 2013-3.zip descargado correctamente.\n",
            "Archivo 2013-4.zip descargado correctamente.\n",
            "Archivo 2013-5.zip descargado correctamente.\n",
            "Archivo 2013-6.zip descargado correctamente.\n",
            "Archivo 2013-7.zip descargado correctamente.\n",
            "Archivo 2013-8.zip descargado correctamente.\n",
            "Archivo 2013-9.zip descargado correctamente.\n",
            "Archivo 2013-10.zip descargado correctamente.\n",
            "Archivo 2013-11.zip descargado correctamente.\n",
            "Archivo 2013-12.zip descargado correctamente.\n",
            "Archivo 2014-1.zip descargado correctamente.\n",
            "Archivo 2014-2.zip descargado correctamente.\n",
            "Archivo 2014-3.zip descargado correctamente.\n",
            "Archivo 2014-4.zip descargado correctamente.\n",
            "Archivo 2014-5.zip descargado correctamente.\n",
            "Archivo 2014-6.zip descargado correctamente.\n",
            "Archivo 2014-7.zip descargado correctamente.\n",
            "Archivo 2014-8.zip descargado correctamente.\n",
            "Archivo 2014-9.zip descargado correctamente.\n",
            "Archivo 2014-10.zip descargado correctamente.\n",
            "Archivo 2014-11.zip descargado correctamente.\n",
            "Archivo 2014-12.zip descargado correctamente.\n",
            "Archivo 2015-1.zip descargado correctamente.\n",
            "Archivo 2015-2.zip descargado correctamente.\n",
            "Archivo 2015-3.zip descargado correctamente.\n",
            "Archivo 2015-4.zip descargado correctamente.\n",
            "Archivo 2015-5.zip descargado correctamente.\n",
            "Archivo 2015-6.zip descargado correctamente.\n",
            "Archivo 2015-7.zip descargado correctamente.\n",
            "Archivo 2015-8.zip descargado correctamente.\n",
            "Archivo 2015-9.zip descargado correctamente.\n",
            "Archivo 2015-10.zip descargado correctamente.\n",
            "Archivo 2015-11.zip descargado correctamente.\n",
            "Archivo 2015-12.zip descargado correctamente.\n",
            "Archivo 2016-1.zip descargado correctamente.\n",
            "Archivo 2016-2.zip descargado correctamente.\n",
            "Archivo 2016-3.zip descargado correctamente.\n",
            "Archivo 2016-4.zip descargado correctamente.\n",
            "Archivo 2016-5.zip descargado correctamente.\n",
            "Archivo 2016-6.zip descargado correctamente.\n",
            "Archivo 2016-7.zip descargado correctamente.\n",
            "Archivo 2016-8.zip descargado correctamente.\n",
            "Archivo 2016-9.zip descargado correctamente.\n",
            "Archivo 2016-10.zip descargado correctamente.\n",
            "Archivo 2016-11.zip descargado correctamente.\n",
            "Archivo 2016-12.zip descargado correctamente.\n",
            "Archivo 2017-1.zip descargado correctamente.\n",
            "Archivo 2017-2.zip descargado correctamente.\n",
            "Archivo 2017-3.zip descargado correctamente.\n",
            "Archivo 2017-4.zip descargado correctamente.\n",
            "Archivo 2017-5.zip descargado correctamente.\n",
            "Archivo 2017-6.zip descargado correctamente.\n",
            "Archivo 2017-7.zip descargado correctamente.\n",
            "Archivo 2017-8.zip descargado correctamente.\n",
            "Archivo 2017-9.zip descargado correctamente.\n",
            "Archivo 2017-10.zip descargado correctamente.\n",
            "Archivo 2017-11.zip descargado correctamente.\n",
            "Archivo 2017-12.zip descargado correctamente.\n",
            "Archivo 2018-1.zip descargado correctamente.\n",
            "Archivo 2018-2.zip descargado correctamente.\n",
            "Archivo 2018-3.zip descargado correctamente.\n",
            "Archivo 2018-4.zip descargado correctamente.\n",
            "Archivo 2018-5.zip descargado correctamente.\n",
            "Archivo 2018-6.zip descargado correctamente.\n",
            "Archivo 2018-7.zip descargado correctamente.\n",
            "Archivo 2018-8.zip descargado correctamente.\n",
            "Archivo 2018-9.zip descargado correctamente.\n",
            "Archivo 2018-10.zip descargado correctamente.\n",
            "Archivo 2018-11.zip descargado correctamente.\n",
            "Archivo 2018-12.zip descargado correctamente.\n",
            "Archivo 2019-1.zip descargado correctamente.\n",
            "Archivo 2019-2.zip descargado correctamente.\n",
            "Archivo 2019-3.zip descargado correctamente.\n",
            "Archivo 2019-4.zip descargado correctamente.\n",
            "Archivo 2019-5.zip descargado correctamente.\n",
            "Archivo 2019-6.zip descargado correctamente.\n",
            "Archivo 2019-7.zip descargado correctamente.\n",
            "Archivo 2019-8.zip descargado correctamente.\n",
            "Archivo 2019-9.zip descargado correctamente.\n",
            "Archivo 2019-10.zip descargado correctamente.\n",
            "Archivo 2019-11.zip descargado correctamente.\n",
            "Archivo 2019-12.zip descargado correctamente.\n",
            "Archivo 2020-1.zip descargado correctamente.\n",
            "Archivo 2020-2.zip descargado correctamente.\n",
            "Archivo 2020-3.zip descargado correctamente.\n",
            "Archivo 2020-4.zip descargado correctamente.\n",
            "Archivo 2020-5.zip descargado correctamente.\n",
            "Archivo 2020-6.zip descargado correctamente.\n",
            "Archivo 2020-7.zip descargado correctamente.\n",
            "Archivo 2020-8.zip descargado correctamente.\n",
            "Archivo 2020-9.zip descargado correctamente.\n",
            "Archivo 2020-10.zip descargado correctamente.\n",
            "Archivo 2020-11.zip descargado correctamente.\n",
            "Archivo 2020-12.zip descargado correctamente.\n",
            "Archivo 2021-1.zip descargado correctamente.\n",
            "Archivo 2021-2.zip descargado correctamente.\n",
            "Archivo 2021-3.zip descargado correctamente.\n",
            "Archivo 2021-4.zip descargado correctamente.\n",
            "Archivo 2021-5.zip descargado correctamente.\n",
            "Archivo 2021-6.zip descargado correctamente.\n",
            "Archivo 2021-7.zip descargado correctamente.\n",
            "Archivo 2021-8.zip descargado correctamente.\n",
            "Archivo 2021-9.zip descargado correctamente.\n",
            "Archivo 2021-10.zip descargado correctamente.\n",
            "Archivo 2021-11.zip descargado correctamente.\n",
            "Archivo 2021-12.zip descargado correctamente.\n",
            "Archivo 2022-1.zip descargado correctamente.\n",
            "Archivo 2022-2.zip descargado correctamente.\n",
            "Archivo 2022-3.zip descargado correctamente.\n",
            "Archivo 2022-4.zip descargado correctamente.\n",
            "Archivo 2022-5.zip descargado correctamente.\n",
            "Archivo 2022-6.zip descargado correctamente.\n",
            "Archivo 2022-7.zip descargado correctamente.\n",
            "Archivo 2022-8.zip descargado correctamente.\n",
            "Archivo 2022-9.zip descargado correctamente.\n",
            "Archivo 2022-10.zip descargado correctamente.\n",
            "Archivo 2022-11.zip descargado correctamente.\n",
            "Archivo 2022-12.zip descargado correctamente.\n",
            "Archivo 2023-1.zip descargado correctamente.\n",
            "Archivo 2023-2.zip descargado correctamente.\n",
            "Archivo 2023-3.zip descargado correctamente.\n",
            "Archivo 2023-4.zip descargado correctamente.\n",
            "Archivo 2023-5.zip descargado correctamente.\n",
            "Archivo 2023-6.zip descargado correctamente.\n",
            "Error al descargar el archivo 2023-7.zip. Código de estado: 404\n",
            "Error al descargar el archivo 2023-8.zip. Código de estado: 404\n",
            "Error al descargar el archivo 2023-9.zip. Código de estado: 404\n",
            "Error al descargar el archivo 2023-10.zip. Código de estado: 404\n",
            "Error al descargar el archivo 2023-11.zip. Código de estado: 404\n",
            "Error al descargar el archivo 2023-12.zip. Código de estado: 404\n"
          ]
        }
      ],
      "source": [
        "import os\n",
        "import requests\n",
        "\n",
        "base_url = \"https://transparenciachc.blob.core.windows.net/oc-da/\"\n",
        "folder_path = \"datos_abiertos\"\n",
        "\n",
        "if not os.path.exists(folder_path):\n",
        "    os.makedirs(folder_path)\n",
        "else:\n",
        "    for file_name in os.listdir(folder_path):\n",
        "        file_path = os.path.join(folder_path, file_name)\n",
        "        os.remove(file_path)\n",
        "\n",
        "for year in range(año_inicio, año_termino):\n",
        "    for month in range(1, 13):\n",
        "        if month < 10:\n",
        "            year_month = f\"{year}-{month}\"\n",
        "        else:\n",
        "            year_month = f\"{year}-{str(month).zfill(2)}\"\n",
        "        download_url = base_url + f\"{year_month}.zip\"\n",
        "        file_path = os.path.join(folder_path, f\"{year_month}.zip\")\n",
        "\n",
        "        try:\n",
        "            response = requests.get(download_url)\n",
        "            if response.status_code == 200:\n",
        "                with open(file_path, \"wb\") as file:\n",
        "                    file.write(response.content)\n",
        "                print(f\"Archivo {year_month}.zip descargado correctamente.\")\n",
        "            else:\n",
        "                print(f\"Error al descargar el archivo {year_month}.zip. Código de estado: {response.status_code}\")\n",
        "        except Exception as e:\n",
        "            print(f\"Error al descargar el archivo {year_month}.zip: {str(e)}\")\n"
      ]
    },
    {
      "cell_type": "markdown",
      "source": [
        "## Rubro"
      ],
      "metadata": {
        "id": "Au5NusSNIB2D"
      }
    },
    {
      "cell_type": "markdown",
      "source": [
        "Seleccionar el o los rubros el cual se desea extraer. Ingresar como lista de rubros: [Rubro1,Rubro2,....,RubroN]"
      ],
      "metadata": {
        "id": "64R5_IrEIDYr"
      }
    },
    {
      "cell_type": "code",
      "source": [
        "rubros= [\"Rubro 1\",'Rubro 2','Rubro 3'] #Seleccionar el o los rubros\n",
        "\n",
        "n_rubros = len(rubros)\n",
        "n_inicio = n_rubros-1\n",
        "query_rubros= ''\n",
        "query_or = ' or '\n",
        "for rubro in rubros:\n",
        "  query_rubro = f'RubroN1 == \"{rubro}\"'\n",
        "  n_rubros -=1\n",
        "  if n_rubros !=0:\n",
        "    query_rubros = query_rubros + query_rubro + query_or\n",
        "  if n_rubros == 0:\n",
        "    query_rubros = query_rubros + query_rubro\n",
        "query_rubros\n",
        "\n",
        "\n"
      ],
      "metadata": {
        "colab": {
          "base_uri": "https://localhost:8080/",
          "height": 35
        },
        "id": "HiGytPIoHRm2",
        "outputId": "fe3bc398-3fe2-41b0-b39c-4bb623388184"
      },
      "execution_count": null,
      "outputs": [
        {
          "output_type": "execute_result",
          "data": {
            "text/plain": [
              "'RubroN1 == \"Rubro 1\" or RubroN1 == \"Rubro 2\" or RubroN1 == \"Rubro 3\"'"
            ],
            "application/vnd.google.colaboratory.intrinsic+json": {
              "type": "string"
            }
          },
          "metadata": {},
          "execution_count": 10
        }
      ]
    },
    {
      "cell_type": "code",
      "source": [
        "import os\n",
        "import zipfile\n",
        "import pandas as pd\n",
        "\n",
        "folder_path = \"datos_abiertos\"\n",
        "output_folder = \"extracciones_datos_abiertos\"\n",
        "columns_to_select = ['ID', 'tieneItems', 'codigoCategoria', 'Categoria', 'codigoProductoONU', 'NombreroductoGenerico', 'EspecificacionComprador', 'EspecificacionProveedor', 'cantidad', 'UnidadMedida', 'monedaItem', 'precioNeto', 'totalCargos', 'totalDescuentos', 'totalImpuestos', 'totalLineaNeto', 'FechaCreacion', 'fechaUltimaModificacion', 'Codigo', 'RubroN1', 'RubroN3']\n",
        "output_file = \"datos_completos.csv\"\n",
        "\n",
        "# Crear la carpeta \"extracciones_datos_abiertos\" si no existe\n",
        "if not os.path.exists(output_folder):\n",
        "    os.makedirs(output_folder)\n",
        "\n",
        "# Obtener la lista de archivos ZIP en la carpeta \"datos_abiertos\"\n",
        "zip_files = sorted([file_name for file_name in os.listdir(folder_path) if file_name.endswith(\".zip\")])\n",
        "\n",
        "total_files = len(zip_files)\n",
        "processed_files = 0\n",
        "\n",
        "# Crear un DataFrame vacío para almacenar los datos completos\n",
        "df_complete = pd.DataFrame(columns=columns_to_select)\n",
        "\n",
        "# Recorrer la lista de archivos ZIP\n",
        "for file_name in zip_files:\n",
        "    file_path = os.path.join(folder_path, file_name)\n",
        "\n",
        "    try:\n",
        "        # Extraer el archivo ZIP\n",
        "        with zipfile.ZipFile(file_path, \"r\") as zip_ref:\n",
        "            zip_ref.extractall(output_folder)\n",
        "\n",
        "        print(f\"Archivos extraídos de {file_name} correctamente. Quedan {total_files - processed_files - 1} archivos por extraer.\")\n",
        "\n",
        "        # Eliminar el archivo ZIP para liberar memoria\n",
        "        os.remove(file_path)\n",
        "\n",
        "        # Recorrer los archivos CSV en la carpeta de extracción\n",
        "        for csv_file in os.listdir(output_folder):\n",
        "            csv_path = os.path.join(output_folder, csv_file)\n",
        "\n",
        "            try:\n",
        "                # Leer el archivo CSV y filtrar las columnas deseadas\n",
        "                df = pd.read_csv(csv_path, delimiter=';', quotechar='\"', encoding='latin1', usecols=columns_to_select)\n",
        "                df_filtered = df.query(query_rubros)\n",
        "\n",
        "                # Unir el DataFrame filtrado al DataFrame completo\n",
        "                df_complete = pd.concat([df_complete, df_filtered], ignore_index=True)\n",
        "\n",
        "                # Eliminar el archivo CSV para liberar memoria\n",
        "                os.remove(csv_path)\n",
        "            except Exception as e:\n",
        "                print(f\"Error al procesar el archivo {csv_file}: {str(e)}\")\n",
        "\n",
        "    except Exception as e:\n",
        "        print(f\"Error al extraer archivos de {file_name}: {str(e)}\")\n",
        "\n",
        "    processed_files += 1\n",
        "\n",
        "# Guardar el DataFrame completo en un archivo CSV\n",
        "df_complete.to_csv(output_file, index=False)\n",
        "\n",
        "print(\"Procesamiento completo. Archivo guardado como datos_completos.csv.\")\n"
      ],
      "metadata": {
        "colab": {
          "base_uri": "https://localhost:8080/"
        },
        "id": "CrU1RLOEUnwR",
        "outputId": "dcaa4d11-66f9-4fd4-e179-c3bf9ec250d6"
      },
      "execution_count": null,
      "outputs": [
        {
          "output_type": "stream",
          "name": "stdout",
          "text": [
            "Archivos extraídos de 2013-1.zip correctamente. Quedan 125 archivos por extraer.\n"
          ]
        },
        {
          "output_type": "stream",
          "name": "stderr",
          "text": [
            "<ipython-input-105-43db1844578f>:43: DtypeWarning: Columns (73,74) have mixed types. Specify dtype option on import or set low_memory=False.\n",
            "  df = pd.read_csv(csv_path, delimiter=';', quotechar='\"', encoding='latin1', usecols=columns_to_select)\n"
          ]
        },
        {
          "output_type": "stream",
          "name": "stdout",
          "text": [
            "Archivos extraídos de 2013-10.zip correctamente. Quedan 124 archivos por extraer.\n"
          ]
        },
        {
          "output_type": "stream",
          "name": "stderr",
          "text": [
            "<ipython-input-105-43db1844578f>:43: DtypeWarning: Columns (73,74) have mixed types. Specify dtype option on import or set low_memory=False.\n",
            "  df = pd.read_csv(csv_path, delimiter=';', quotechar='\"', encoding='latin1', usecols=columns_to_select)\n"
          ]
        },
        {
          "output_type": "stream",
          "name": "stdout",
          "text": [
            "Archivos extraídos de 2013-11.zip correctamente. Quedan 123 archivos por extraer.\n"
          ]
        },
        {
          "output_type": "stream",
          "name": "stderr",
          "text": [
            "<ipython-input-105-43db1844578f>:43: DtypeWarning: Columns (73,74) have mixed types. Specify dtype option on import or set low_memory=False.\n",
            "  df = pd.read_csv(csv_path, delimiter=';', quotechar='\"', encoding='latin1', usecols=columns_to_select)\n"
          ]
        },
        {
          "output_type": "stream",
          "name": "stdout",
          "text": [
            "Archivos extraídos de 2013-12.zip correctamente. Quedan 122 archivos por extraer.\n"
          ]
        },
        {
          "output_type": "stream",
          "name": "stderr",
          "text": [
            "<ipython-input-105-43db1844578f>:43: DtypeWarning: Columns (73,74) have mixed types. Specify dtype option on import or set low_memory=False.\n",
            "  df = pd.read_csv(csv_path, delimiter=';', quotechar='\"', encoding='latin1', usecols=columns_to_select)\n"
          ]
        },
        {
          "output_type": "stream",
          "name": "stdout",
          "text": [
            "Archivos extraídos de 2013-2.zip correctamente. Quedan 121 archivos por extraer.\n"
          ]
        },
        {
          "output_type": "stream",
          "name": "stderr",
          "text": [
            "<ipython-input-105-43db1844578f>:43: DtypeWarning: Columns (74) have mixed types. Specify dtype option on import or set low_memory=False.\n",
            "  df = pd.read_csv(csv_path, delimiter=';', quotechar='\"', encoding='latin1', usecols=columns_to_select)\n"
          ]
        },
        {
          "output_type": "stream",
          "name": "stdout",
          "text": [
            "Archivos extraídos de 2013-3.zip correctamente. Quedan 120 archivos por extraer.\n"
          ]
        },
        {
          "output_type": "stream",
          "name": "stderr",
          "text": [
            "<ipython-input-105-43db1844578f>:43: DtypeWarning: Columns (73,74) have mixed types. Specify dtype option on import or set low_memory=False.\n",
            "  df = pd.read_csv(csv_path, delimiter=';', quotechar='\"', encoding='latin1', usecols=columns_to_select)\n"
          ]
        },
        {
          "output_type": "stream",
          "name": "stdout",
          "text": [
            "Archivos extraídos de 2013-4.zip correctamente. Quedan 119 archivos por extraer.\n"
          ]
        },
        {
          "output_type": "stream",
          "name": "stderr",
          "text": [
            "<ipython-input-105-43db1844578f>:43: DtypeWarning: Columns (73,74) have mixed types. Specify dtype option on import or set low_memory=False.\n",
            "  df = pd.read_csv(csv_path, delimiter=';', quotechar='\"', encoding='latin1', usecols=columns_to_select)\n"
          ]
        },
        {
          "output_type": "stream",
          "name": "stdout",
          "text": [
            "Archivos extraídos de 2013-5.zip correctamente. Quedan 118 archivos por extraer.\n"
          ]
        },
        {
          "output_type": "stream",
          "name": "stderr",
          "text": [
            "<ipython-input-105-43db1844578f>:43: DtypeWarning: Columns (73,74) have mixed types. Specify dtype option on import or set low_memory=False.\n",
            "  df = pd.read_csv(csv_path, delimiter=';', quotechar='\"', encoding='latin1', usecols=columns_to_select)\n"
          ]
        },
        {
          "output_type": "stream",
          "name": "stdout",
          "text": [
            "Archivos extraídos de 2013-6.zip correctamente. Quedan 117 archivos por extraer.\n"
          ]
        },
        {
          "output_type": "stream",
          "name": "stderr",
          "text": [
            "<ipython-input-105-43db1844578f>:43: DtypeWarning: Columns (73,74) have mixed types. Specify dtype option on import or set low_memory=False.\n",
            "  df = pd.read_csv(csv_path, delimiter=';', quotechar='\"', encoding='latin1', usecols=columns_to_select)\n"
          ]
        },
        {
          "output_type": "stream",
          "name": "stdout",
          "text": [
            "Archivos extraídos de 2013-7.zip correctamente. Quedan 116 archivos por extraer.\n"
          ]
        },
        {
          "output_type": "stream",
          "name": "stderr",
          "text": [
            "<ipython-input-105-43db1844578f>:43: DtypeWarning: Columns (73,74) have mixed types. Specify dtype option on import or set low_memory=False.\n",
            "  df = pd.read_csv(csv_path, delimiter=';', quotechar='\"', encoding='latin1', usecols=columns_to_select)\n"
          ]
        },
        {
          "output_type": "stream",
          "name": "stdout",
          "text": [
            "Archivos extraídos de 2013-8.zip correctamente. Quedan 115 archivos por extraer.\n"
          ]
        },
        {
          "output_type": "stream",
          "name": "stderr",
          "text": [
            "<ipython-input-105-43db1844578f>:43: DtypeWarning: Columns (74) have mixed types. Specify dtype option on import or set low_memory=False.\n",
            "  df = pd.read_csv(csv_path, delimiter=';', quotechar='\"', encoding='latin1', usecols=columns_to_select)\n"
          ]
        },
        {
          "output_type": "stream",
          "name": "stdout",
          "text": [
            "Archivos extraídos de 2013-9.zip correctamente. Quedan 114 archivos por extraer.\n"
          ]
        },
        {
          "output_type": "stream",
          "name": "stderr",
          "text": [
            "<ipython-input-105-43db1844578f>:43: DtypeWarning: Columns (73,74) have mixed types. Specify dtype option on import or set low_memory=False.\n",
            "  df = pd.read_csv(csv_path, delimiter=';', quotechar='\"', encoding='latin1', usecols=columns_to_select)\n"
          ]
        },
        {
          "output_type": "stream",
          "name": "stdout",
          "text": [
            "Archivos extraídos de 2014-1.zip correctamente. Quedan 113 archivos por extraer.\n"
          ]
        },
        {
          "output_type": "stream",
          "name": "stderr",
          "text": [
            "<ipython-input-105-43db1844578f>:43: DtypeWarning: Columns (69,73) have mixed types. Specify dtype option on import or set low_memory=False.\n",
            "  df = pd.read_csv(csv_path, delimiter=';', quotechar='\"', encoding='latin1', usecols=columns_to_select)\n"
          ]
        },
        {
          "output_type": "stream",
          "name": "stdout",
          "text": [
            "Archivos extraídos de 2014-10.zip correctamente. Quedan 112 archivos por extraer.\n"
          ]
        },
        {
          "output_type": "stream",
          "name": "stderr",
          "text": [
            "<ipython-input-105-43db1844578f>:43: DtypeWarning: Columns (73) have mixed types. Specify dtype option on import or set low_memory=False.\n",
            "  df = pd.read_csv(csv_path, delimiter=';', quotechar='\"', encoding='latin1', usecols=columns_to_select)\n"
          ]
        },
        {
          "output_type": "stream",
          "name": "stdout",
          "text": [
            "Archivos extraídos de 2014-11.zip correctamente. Quedan 111 archivos por extraer.\n"
          ]
        },
        {
          "output_type": "stream",
          "name": "stderr",
          "text": [
            "<ipython-input-105-43db1844578f>:43: DtypeWarning: Columns (73,74) have mixed types. Specify dtype option on import or set low_memory=False.\n",
            "  df = pd.read_csv(csv_path, delimiter=';', quotechar='\"', encoding='latin1', usecols=columns_to_select)\n"
          ]
        },
        {
          "output_type": "stream",
          "name": "stdout",
          "text": [
            "Archivos extraídos de 2014-12.zip correctamente. Quedan 110 archivos por extraer.\n"
          ]
        },
        {
          "output_type": "stream",
          "name": "stderr",
          "text": [
            "<ipython-input-105-43db1844578f>:43: DtypeWarning: Columns (73,74) have mixed types. Specify dtype option on import or set low_memory=False.\n",
            "  df = pd.read_csv(csv_path, delimiter=';', quotechar='\"', encoding='latin1', usecols=columns_to_select)\n"
          ]
        },
        {
          "output_type": "stream",
          "name": "stdout",
          "text": [
            "Archivos extraídos de 2014-2.zip correctamente. Quedan 109 archivos por extraer.\n"
          ]
        },
        {
          "output_type": "stream",
          "name": "stderr",
          "text": [
            "<ipython-input-105-43db1844578f>:43: DtypeWarning: Columns (74) have mixed types. Specify dtype option on import or set low_memory=False.\n",
            "  df = pd.read_csv(csv_path, delimiter=';', quotechar='\"', encoding='latin1', usecols=columns_to_select)\n"
          ]
        },
        {
          "output_type": "stream",
          "name": "stdout",
          "text": [
            "Archivos extraídos de 2014-3.zip correctamente. Quedan 108 archivos por extraer.\n"
          ]
        },
        {
          "output_type": "stream",
          "name": "stderr",
          "text": [
            "<ipython-input-105-43db1844578f>:43: DtypeWarning: Columns (73,74) have mixed types. Specify dtype option on import or set low_memory=False.\n",
            "  df = pd.read_csv(csv_path, delimiter=';', quotechar='\"', encoding='latin1', usecols=columns_to_select)\n"
          ]
        },
        {
          "output_type": "stream",
          "name": "stdout",
          "text": [
            "Archivos extraídos de 2014-4.zip correctamente. Quedan 107 archivos por extraer.\n"
          ]
        },
        {
          "output_type": "stream",
          "name": "stderr",
          "text": [
            "<ipython-input-105-43db1844578f>:43: DtypeWarning: Columns (73,74) have mixed types. Specify dtype option on import or set low_memory=False.\n",
            "  df = pd.read_csv(csv_path, delimiter=';', quotechar='\"', encoding='latin1', usecols=columns_to_select)\n"
          ]
        },
        {
          "output_type": "stream",
          "name": "stdout",
          "text": [
            "Archivos extraídos de 2014-5.zip correctamente. Quedan 106 archivos por extraer.\n"
          ]
        },
        {
          "output_type": "stream",
          "name": "stderr",
          "text": [
            "<ipython-input-105-43db1844578f>:43: DtypeWarning: Columns (73,74) have mixed types. Specify dtype option on import or set low_memory=False.\n",
            "  df = pd.read_csv(csv_path, delimiter=';', quotechar='\"', encoding='latin1', usecols=columns_to_select)\n"
          ]
        },
        {
          "output_type": "stream",
          "name": "stdout",
          "text": [
            "Archivos extraídos de 2014-6.zip correctamente. Quedan 105 archivos por extraer.\n"
          ]
        },
        {
          "output_type": "stream",
          "name": "stderr",
          "text": [
            "<ipython-input-105-43db1844578f>:43: DtypeWarning: Columns (73,74) have mixed types. Specify dtype option on import or set low_memory=False.\n",
            "  df = pd.read_csv(csv_path, delimiter=';', quotechar='\"', encoding='latin1', usecols=columns_to_select)\n"
          ]
        },
        {
          "output_type": "stream",
          "name": "stdout",
          "text": [
            "Archivos extraídos de 2014-7.zip correctamente. Quedan 104 archivos por extraer.\n"
          ]
        },
        {
          "output_type": "stream",
          "name": "stderr",
          "text": [
            "<ipython-input-105-43db1844578f>:43: DtypeWarning: Columns (73,74) have mixed types. Specify dtype option on import or set low_memory=False.\n",
            "  df = pd.read_csv(csv_path, delimiter=';', quotechar='\"', encoding='latin1', usecols=columns_to_select)\n"
          ]
        },
        {
          "output_type": "stream",
          "name": "stdout",
          "text": [
            "Archivos extraídos de 2014-8.zip correctamente. Quedan 103 archivos por extraer.\n"
          ]
        },
        {
          "output_type": "stream",
          "name": "stderr",
          "text": [
            "<ipython-input-105-43db1844578f>:43: DtypeWarning: Columns (73,74) have mixed types. Specify dtype option on import or set low_memory=False.\n",
            "  df = pd.read_csv(csv_path, delimiter=';', quotechar='\"', encoding='latin1', usecols=columns_to_select)\n"
          ]
        },
        {
          "output_type": "stream",
          "name": "stdout",
          "text": [
            "Archivos extraídos de 2014-9.zip correctamente. Quedan 102 archivos por extraer.\n"
          ]
        },
        {
          "output_type": "stream",
          "name": "stderr",
          "text": [
            "<ipython-input-105-43db1844578f>:43: DtypeWarning: Columns (73,74) have mixed types. Specify dtype option on import or set low_memory=False.\n",
            "  df = pd.read_csv(csv_path, delimiter=';', quotechar='\"', encoding='latin1', usecols=columns_to_select)\n"
          ]
        },
        {
          "output_type": "stream",
          "name": "stdout",
          "text": [
            "Archivos extraídos de 2015-1.zip correctamente. Quedan 101 archivos por extraer.\n"
          ]
        },
        {
          "output_type": "stream",
          "name": "stderr",
          "text": [
            "<ipython-input-105-43db1844578f>:43: DtypeWarning: Columns (73,74) have mixed types. Specify dtype option on import or set low_memory=False.\n",
            "  df = pd.read_csv(csv_path, delimiter=';', quotechar='\"', encoding='latin1', usecols=columns_to_select)\n"
          ]
        },
        {
          "output_type": "stream",
          "name": "stdout",
          "text": [
            "Archivos extraídos de 2015-10.zip correctamente. Quedan 100 archivos por extraer.\n"
          ]
        },
        {
          "output_type": "stream",
          "name": "stderr",
          "text": [
            "<ipython-input-105-43db1844578f>:43: DtypeWarning: Columns (73,74) have mixed types. Specify dtype option on import or set low_memory=False.\n",
            "  df = pd.read_csv(csv_path, delimiter=';', quotechar='\"', encoding='latin1', usecols=columns_to_select)\n"
          ]
        },
        {
          "output_type": "stream",
          "name": "stdout",
          "text": [
            "Archivos extraídos de 2015-11.zip correctamente. Quedan 99 archivos por extraer.\n"
          ]
        },
        {
          "output_type": "stream",
          "name": "stderr",
          "text": [
            "<ipython-input-105-43db1844578f>:43: DtypeWarning: Columns (73,74) have mixed types. Specify dtype option on import or set low_memory=False.\n",
            "  df = pd.read_csv(csv_path, delimiter=';', quotechar='\"', encoding='latin1', usecols=columns_to_select)\n"
          ]
        },
        {
          "output_type": "stream",
          "name": "stdout",
          "text": [
            "Archivos extraídos de 2015-12.zip correctamente. Quedan 98 archivos por extraer.\n"
          ]
        },
        {
          "output_type": "stream",
          "name": "stderr",
          "text": [
            "<ipython-input-105-43db1844578f>:43: DtypeWarning: Columns (73,74) have mixed types. Specify dtype option on import or set low_memory=False.\n",
            "  df = pd.read_csv(csv_path, delimiter=';', quotechar='\"', encoding='latin1', usecols=columns_to_select)\n"
          ]
        },
        {
          "output_type": "stream",
          "name": "stdout",
          "text": [
            "Archivos extraídos de 2015-2.zip correctamente. Quedan 97 archivos por extraer.\n"
          ]
        },
        {
          "output_type": "stream",
          "name": "stderr",
          "text": [
            "<ipython-input-105-43db1844578f>:43: DtypeWarning: Columns (73) have mixed types. Specify dtype option on import or set low_memory=False.\n",
            "  df = pd.read_csv(csv_path, delimiter=';', quotechar='\"', encoding='latin1', usecols=columns_to_select)\n"
          ]
        },
        {
          "output_type": "stream",
          "name": "stdout",
          "text": [
            "Archivos extraídos de 2015-3.zip correctamente. Quedan 96 archivos por extraer.\n"
          ]
        },
        {
          "output_type": "stream",
          "name": "stderr",
          "text": [
            "<ipython-input-105-43db1844578f>:43: DtypeWarning: Columns (73,74) have mixed types. Specify dtype option on import or set low_memory=False.\n",
            "  df = pd.read_csv(csv_path, delimiter=';', quotechar='\"', encoding='latin1', usecols=columns_to_select)\n"
          ]
        },
        {
          "output_type": "stream",
          "name": "stdout",
          "text": [
            "Archivos extraídos de 2015-4.zip correctamente. Quedan 95 archivos por extraer.\n"
          ]
        },
        {
          "output_type": "stream",
          "name": "stderr",
          "text": [
            "<ipython-input-105-43db1844578f>:43: DtypeWarning: Columns (73,74) have mixed types. Specify dtype option on import or set low_memory=False.\n",
            "  df = pd.read_csv(csv_path, delimiter=';', quotechar='\"', encoding='latin1', usecols=columns_to_select)\n"
          ]
        },
        {
          "output_type": "stream",
          "name": "stdout",
          "text": [
            "Archivos extraídos de 2015-5.zip correctamente. Quedan 94 archivos por extraer.\n"
          ]
        },
        {
          "output_type": "stream",
          "name": "stderr",
          "text": [
            "<ipython-input-105-43db1844578f>:43: DtypeWarning: Columns (73,74) have mixed types. Specify dtype option on import or set low_memory=False.\n",
            "  df = pd.read_csv(csv_path, delimiter=';', quotechar='\"', encoding='latin1', usecols=columns_to_select)\n"
          ]
        },
        {
          "output_type": "stream",
          "name": "stdout",
          "text": [
            "Archivos extraídos de 2015-6.zip correctamente. Quedan 93 archivos por extraer.\n"
          ]
        },
        {
          "output_type": "stream",
          "name": "stderr",
          "text": [
            "<ipython-input-105-43db1844578f>:43: DtypeWarning: Columns (73,74) have mixed types. Specify dtype option on import or set low_memory=False.\n",
            "  df = pd.read_csv(csv_path, delimiter=';', quotechar='\"', encoding='latin1', usecols=columns_to_select)\n"
          ]
        },
        {
          "output_type": "stream",
          "name": "stdout",
          "text": [
            "Archivos extraídos de 2015-7.zip correctamente. Quedan 92 archivos por extraer.\n"
          ]
        },
        {
          "output_type": "stream",
          "name": "stderr",
          "text": [
            "<ipython-input-105-43db1844578f>:43: DtypeWarning: Columns (73,74) have mixed types. Specify dtype option on import or set low_memory=False.\n",
            "  df = pd.read_csv(csv_path, delimiter=';', quotechar='\"', encoding='latin1', usecols=columns_to_select)\n"
          ]
        },
        {
          "output_type": "stream",
          "name": "stdout",
          "text": [
            "Archivos extraídos de 2015-8.zip correctamente. Quedan 91 archivos por extraer.\n"
          ]
        },
        {
          "output_type": "stream",
          "name": "stderr",
          "text": [
            "<ipython-input-105-43db1844578f>:43: DtypeWarning: Columns (73,74) have mixed types. Specify dtype option on import or set low_memory=False.\n",
            "  df = pd.read_csv(csv_path, delimiter=';', quotechar='\"', encoding='latin1', usecols=columns_to_select)\n"
          ]
        },
        {
          "output_type": "stream",
          "name": "stdout",
          "text": [
            "Archivos extraídos de 2015-9.zip correctamente. Quedan 90 archivos por extraer.\n"
          ]
        },
        {
          "output_type": "stream",
          "name": "stderr",
          "text": [
            "<ipython-input-105-43db1844578f>:43: DtypeWarning: Columns (73,74) have mixed types. Specify dtype option on import or set low_memory=False.\n",
            "  df = pd.read_csv(csv_path, delimiter=';', quotechar='\"', encoding='latin1', usecols=columns_to_select)\n"
          ]
        },
        {
          "output_type": "stream",
          "name": "stdout",
          "text": [
            "Archivos extraídos de 2016-1.zip correctamente. Quedan 89 archivos por extraer.\n"
          ]
        },
        {
          "output_type": "stream",
          "name": "stderr",
          "text": [
            "<ipython-input-105-43db1844578f>:43: DtypeWarning: Columns (73,74) have mixed types. Specify dtype option on import or set low_memory=False.\n",
            "  df = pd.read_csv(csv_path, delimiter=';', quotechar='\"', encoding='latin1', usecols=columns_to_select)\n"
          ]
        },
        {
          "output_type": "stream",
          "name": "stdout",
          "text": [
            "Archivos extraídos de 2016-10.zip correctamente. Quedan 88 archivos por extraer.\n"
          ]
        },
        {
          "output_type": "stream",
          "name": "stderr",
          "text": [
            "<ipython-input-105-43db1844578f>:43: DtypeWarning: Columns (72,73) have mixed types. Specify dtype option on import or set low_memory=False.\n",
            "  df = pd.read_csv(csv_path, delimiter=';', quotechar='\"', encoding='latin1', usecols=columns_to_select)\n"
          ]
        },
        {
          "output_type": "stream",
          "name": "stdout",
          "text": [
            "Archivos extraídos de 2016-11.zip correctamente. Quedan 87 archivos por extraer.\n"
          ]
        },
        {
          "output_type": "stream",
          "name": "stderr",
          "text": [
            "<ipython-input-105-43db1844578f>:43: DtypeWarning: Columns (72,73) have mixed types. Specify dtype option on import or set low_memory=False.\n",
            "  df = pd.read_csv(csv_path, delimiter=';', quotechar='\"', encoding='latin1', usecols=columns_to_select)\n"
          ]
        },
        {
          "output_type": "stream",
          "name": "stdout",
          "text": [
            "Archivos extraídos de 2016-12.zip correctamente. Quedan 86 archivos por extraer.\n"
          ]
        },
        {
          "output_type": "stream",
          "name": "stderr",
          "text": [
            "<ipython-input-105-43db1844578f>:43: DtypeWarning: Columns (72,73) have mixed types. Specify dtype option on import or set low_memory=False.\n",
            "  df = pd.read_csv(csv_path, delimiter=';', quotechar='\"', encoding='latin1', usecols=columns_to_select)\n"
          ]
        },
        {
          "output_type": "stream",
          "name": "stdout",
          "text": [
            "Archivos extraídos de 2016-2.zip correctamente. Quedan 85 archivos por extraer.\n"
          ]
        },
        {
          "output_type": "stream",
          "name": "stderr",
          "text": [
            "<ipython-input-105-43db1844578f>:43: DtypeWarning: Columns (73,74) have mixed types. Specify dtype option on import or set low_memory=False.\n",
            "  df = pd.read_csv(csv_path, delimiter=';', quotechar='\"', encoding='latin1', usecols=columns_to_select)\n"
          ]
        },
        {
          "output_type": "stream",
          "name": "stdout",
          "text": [
            "Archivos extraídos de 2016-3.zip correctamente. Quedan 84 archivos por extraer.\n"
          ]
        },
        {
          "output_type": "stream",
          "name": "stderr",
          "text": [
            "<ipython-input-105-43db1844578f>:43: DtypeWarning: Columns (73,74) have mixed types. Specify dtype option on import or set low_memory=False.\n",
            "  df = pd.read_csv(csv_path, delimiter=';', quotechar='\"', encoding='latin1', usecols=columns_to_select)\n"
          ]
        },
        {
          "output_type": "stream",
          "name": "stdout",
          "text": [
            "Archivos extraídos de 2016-4.zip correctamente. Quedan 83 archivos por extraer.\n"
          ]
        },
        {
          "output_type": "stream",
          "name": "stderr",
          "text": [
            "<ipython-input-105-43db1844578f>:43: DtypeWarning: Columns (73,74) have mixed types. Specify dtype option on import or set low_memory=False.\n",
            "  df = pd.read_csv(csv_path, delimiter=';', quotechar='\"', encoding='latin1', usecols=columns_to_select)\n"
          ]
        },
        {
          "output_type": "stream",
          "name": "stdout",
          "text": [
            "Archivos extraídos de 2016-5.zip correctamente. Quedan 82 archivos por extraer.\n"
          ]
        },
        {
          "output_type": "stream",
          "name": "stderr",
          "text": [
            "<ipython-input-105-43db1844578f>:43: DtypeWarning: Columns (73,74) have mixed types. Specify dtype option on import or set low_memory=False.\n",
            "  df = pd.read_csv(csv_path, delimiter=';', quotechar='\"', encoding='latin1', usecols=columns_to_select)\n"
          ]
        },
        {
          "output_type": "stream",
          "name": "stdout",
          "text": [
            "Archivos extraídos de 2016-6.zip correctamente. Quedan 81 archivos por extraer.\n"
          ]
        },
        {
          "output_type": "stream",
          "name": "stderr",
          "text": [
            "<ipython-input-105-43db1844578f>:43: DtypeWarning: Columns (73,74) have mixed types. Specify dtype option on import or set low_memory=False.\n",
            "  df = pd.read_csv(csv_path, delimiter=';', quotechar='\"', encoding='latin1', usecols=columns_to_select)\n"
          ]
        },
        {
          "output_type": "stream",
          "name": "stdout",
          "text": [
            "Archivos extraídos de 2016-7.zip correctamente. Quedan 80 archivos por extraer.\n"
          ]
        },
        {
          "output_type": "stream",
          "name": "stderr",
          "text": [
            "<ipython-input-105-43db1844578f>:43: DtypeWarning: Columns (73,74) have mixed types. Specify dtype option on import or set low_memory=False.\n",
            "  df = pd.read_csv(csv_path, delimiter=';', quotechar='\"', encoding='latin1', usecols=columns_to_select)\n"
          ]
        },
        {
          "output_type": "stream",
          "name": "stdout",
          "text": [
            "Archivos extraídos de 2016-8.zip correctamente. Quedan 79 archivos por extraer.\n"
          ]
        },
        {
          "output_type": "stream",
          "name": "stderr",
          "text": [
            "<ipython-input-105-43db1844578f>:43: DtypeWarning: Columns (69,73,74) have mixed types. Specify dtype option on import or set low_memory=False.\n",
            "  df = pd.read_csv(csv_path, delimiter=';', quotechar='\"', encoding='latin1', usecols=columns_to_select)\n"
          ]
        },
        {
          "output_type": "stream",
          "name": "stdout",
          "text": [
            "Archivos extraídos de 2016-9.zip correctamente. Quedan 78 archivos por extraer.\n"
          ]
        },
        {
          "output_type": "stream",
          "name": "stderr",
          "text": [
            "<ipython-input-105-43db1844578f>:43: DtypeWarning: Columns (73,74) have mixed types. Specify dtype option on import or set low_memory=False.\n",
            "  df = pd.read_csv(csv_path, delimiter=';', quotechar='\"', encoding='latin1', usecols=columns_to_select)\n"
          ]
        },
        {
          "output_type": "stream",
          "name": "stdout",
          "text": [
            "Archivos extraídos de 2017-1.zip correctamente. Quedan 77 archivos por extraer.\n"
          ]
        },
        {
          "output_type": "stream",
          "name": "stderr",
          "text": [
            "<ipython-input-105-43db1844578f>:43: DtypeWarning: Columns (72,73) have mixed types. Specify dtype option on import or set low_memory=False.\n",
            "  df = pd.read_csv(csv_path, delimiter=';', quotechar='\"', encoding='latin1', usecols=columns_to_select)\n"
          ]
        },
        {
          "output_type": "stream",
          "name": "stdout",
          "text": [
            "Archivos extraídos de 2017-10.zip correctamente. Quedan 76 archivos por extraer.\n"
          ]
        },
        {
          "output_type": "stream",
          "name": "stderr",
          "text": [
            "<ipython-input-105-43db1844578f>:43: DtypeWarning: Columns (74) have mixed types. Specify dtype option on import or set low_memory=False.\n",
            "  df = pd.read_csv(csv_path, delimiter=';', quotechar='\"', encoding='latin1', usecols=columns_to_select)\n"
          ]
        },
        {
          "output_type": "stream",
          "name": "stdout",
          "text": [
            "Archivos extraídos de 2017-11.zip correctamente. Quedan 75 archivos por extraer.\n"
          ]
        },
        {
          "output_type": "stream",
          "name": "stderr",
          "text": [
            "<ipython-input-105-43db1844578f>:43: DtypeWarning: Columns (73,74) have mixed types. Specify dtype option on import or set low_memory=False.\n",
            "  df = pd.read_csv(csv_path, delimiter=';', quotechar='\"', encoding='latin1', usecols=columns_to_select)\n"
          ]
        },
        {
          "output_type": "stream",
          "name": "stdout",
          "text": [
            "Archivos extraídos de 2017-12.zip correctamente. Quedan 74 archivos por extraer.\n"
          ]
        },
        {
          "output_type": "stream",
          "name": "stderr",
          "text": [
            "<ipython-input-105-43db1844578f>:43: DtypeWarning: Columns (73,74) have mixed types. Specify dtype option on import or set low_memory=False.\n",
            "  df = pd.read_csv(csv_path, delimiter=';', quotechar='\"', encoding='latin1', usecols=columns_to_select)\n"
          ]
        },
        {
          "output_type": "stream",
          "name": "stdout",
          "text": [
            "Archivos extraídos de 2017-2.zip correctamente. Quedan 73 archivos por extraer.\n"
          ]
        },
        {
          "output_type": "stream",
          "name": "stderr",
          "text": [
            "<ipython-input-105-43db1844578f>:43: DtypeWarning: Columns (72,73) have mixed types. Specify dtype option on import or set low_memory=False.\n",
            "  df = pd.read_csv(csv_path, delimiter=';', quotechar='\"', encoding='latin1', usecols=columns_to_select)\n"
          ]
        },
        {
          "output_type": "stream",
          "name": "stdout",
          "text": [
            "Archivos extraídos de 2017-3.zip correctamente. Quedan 72 archivos por extraer.\n"
          ]
        },
        {
          "output_type": "stream",
          "name": "stderr",
          "text": [
            "<ipython-input-105-43db1844578f>:43: DtypeWarning: Columns (68,72,73) have mixed types. Specify dtype option on import or set low_memory=False.\n",
            "  df = pd.read_csv(csv_path, delimiter=';', quotechar='\"', encoding='latin1', usecols=columns_to_select)\n"
          ]
        },
        {
          "output_type": "stream",
          "name": "stdout",
          "text": [
            "Archivos extraídos de 2017-4.zip correctamente. Quedan 71 archivos por extraer.\n"
          ]
        },
        {
          "output_type": "stream",
          "name": "stderr",
          "text": [
            "<ipython-input-105-43db1844578f>:43: DtypeWarning: Columns (72,73) have mixed types. Specify dtype option on import or set low_memory=False.\n",
            "  df = pd.read_csv(csv_path, delimiter=';', quotechar='\"', encoding='latin1', usecols=columns_to_select)\n"
          ]
        },
        {
          "output_type": "stream",
          "name": "stdout",
          "text": [
            "Archivos extraídos de 2017-5.zip correctamente. Quedan 70 archivos por extraer.\n"
          ]
        },
        {
          "output_type": "stream",
          "name": "stderr",
          "text": [
            "<ipython-input-105-43db1844578f>:43: DtypeWarning: Columns (72,73) have mixed types. Specify dtype option on import or set low_memory=False.\n",
            "  df = pd.read_csv(csv_path, delimiter=';', quotechar='\"', encoding='latin1', usecols=columns_to_select)\n"
          ]
        },
        {
          "output_type": "stream",
          "name": "stdout",
          "text": [
            "Archivos extraídos de 2017-6.zip correctamente. Quedan 69 archivos por extraer.\n"
          ]
        },
        {
          "output_type": "stream",
          "name": "stderr",
          "text": [
            "<ipython-input-105-43db1844578f>:43: DtypeWarning: Columns (72,73) have mixed types. Specify dtype option on import or set low_memory=False.\n",
            "  df = pd.read_csv(csv_path, delimiter=';', quotechar='\"', encoding='latin1', usecols=columns_to_select)\n"
          ]
        },
        {
          "output_type": "stream",
          "name": "stdout",
          "text": [
            "Archivos extraídos de 2017-7.zip correctamente. Quedan 68 archivos por extraer.\n"
          ]
        },
        {
          "output_type": "stream",
          "name": "stderr",
          "text": [
            "<ipython-input-105-43db1844578f>:43: DtypeWarning: Columns (72,73) have mixed types. Specify dtype option on import or set low_memory=False.\n",
            "  df = pd.read_csv(csv_path, delimiter=';', quotechar='\"', encoding='latin1', usecols=columns_to_select)\n"
          ]
        },
        {
          "output_type": "stream",
          "name": "stdout",
          "text": [
            "Archivos extraídos de 2017-8.zip correctamente. Quedan 67 archivos por extraer.\n"
          ]
        },
        {
          "output_type": "stream",
          "name": "stderr",
          "text": [
            "<ipython-input-105-43db1844578f>:43: DtypeWarning: Columns (74) have mixed types. Specify dtype option on import or set low_memory=False.\n",
            "  df = pd.read_csv(csv_path, delimiter=';', quotechar='\"', encoding='latin1', usecols=columns_to_select)\n"
          ]
        },
        {
          "output_type": "stream",
          "name": "stdout",
          "text": [
            "Archivos extraídos de 2017-9.zip correctamente. Quedan 66 archivos por extraer.\n"
          ]
        },
        {
          "output_type": "stream",
          "name": "stderr",
          "text": [
            "<ipython-input-105-43db1844578f>:43: DtypeWarning: Columns (73,74) have mixed types. Specify dtype option on import or set low_memory=False.\n",
            "  df = pd.read_csv(csv_path, delimiter=';', quotechar='\"', encoding='latin1', usecols=columns_to_select)\n"
          ]
        },
        {
          "output_type": "stream",
          "name": "stdout",
          "text": [
            "Archivos extraídos de 2018-1.zip correctamente. Quedan 65 archivos por extraer.\n"
          ]
        },
        {
          "output_type": "stream",
          "name": "stderr",
          "text": [
            "<ipython-input-105-43db1844578f>:43: DtypeWarning: Columns (74) have mixed types. Specify dtype option on import or set low_memory=False.\n",
            "  df = pd.read_csv(csv_path, delimiter=';', quotechar='\"', encoding='latin1', usecols=columns_to_select)\n"
          ]
        },
        {
          "output_type": "stream",
          "name": "stdout",
          "text": [
            "Archivos extraídos de 2018-10.zip correctamente. Quedan 64 archivos por extraer.\n"
          ]
        },
        {
          "output_type": "stream",
          "name": "stderr",
          "text": [
            "<ipython-input-105-43db1844578f>:43: DtypeWarning: Columns (74) have mixed types. Specify dtype option on import or set low_memory=False.\n",
            "  df = pd.read_csv(csv_path, delimiter=';', quotechar='\"', encoding='latin1', usecols=columns_to_select)\n"
          ]
        },
        {
          "output_type": "stream",
          "name": "stdout",
          "text": [
            "Archivos extraídos de 2018-11.zip correctamente. Quedan 63 archivos por extraer.\n"
          ]
        },
        {
          "output_type": "stream",
          "name": "stderr",
          "text": [
            "<ipython-input-105-43db1844578f>:43: DtypeWarning: Columns (74) have mixed types. Specify dtype option on import or set low_memory=False.\n",
            "  df = pd.read_csv(csv_path, delimiter=';', quotechar='\"', encoding='latin1', usecols=columns_to_select)\n"
          ]
        },
        {
          "output_type": "stream",
          "name": "stdout",
          "text": [
            "Archivos extraídos de 2018-12.zip correctamente. Quedan 62 archivos por extraer.\n"
          ]
        },
        {
          "output_type": "stream",
          "name": "stderr",
          "text": [
            "<ipython-input-105-43db1844578f>:43: DtypeWarning: Columns (74) have mixed types. Specify dtype option on import or set low_memory=False.\n",
            "  df = pd.read_csv(csv_path, delimiter=';', quotechar='\"', encoding='latin1', usecols=columns_to_select)\n"
          ]
        },
        {
          "output_type": "stream",
          "name": "stdout",
          "text": [
            "Archivos extraídos de 2018-2.zip correctamente. Quedan 61 archivos por extraer.\n"
          ]
        },
        {
          "output_type": "stream",
          "name": "stderr",
          "text": [
            "<ipython-input-105-43db1844578f>:43: DtypeWarning: Columns (73,74) have mixed types. Specify dtype option on import or set low_memory=False.\n",
            "  df = pd.read_csv(csv_path, delimiter=';', quotechar='\"', encoding='latin1', usecols=columns_to_select)\n"
          ]
        },
        {
          "output_type": "stream",
          "name": "stdout",
          "text": [
            "Archivos extraídos de 2018-3.zip correctamente. Quedan 60 archivos por extraer.\n",
            "Archivos extraídos de 2018-4.zip correctamente. Quedan 59 archivos por extraer.\n"
          ]
        },
        {
          "output_type": "stream",
          "name": "stderr",
          "text": [
            "<ipython-input-105-43db1844578f>:43: DtypeWarning: Columns (73,74) have mixed types. Specify dtype option on import or set low_memory=False.\n",
            "  df = pd.read_csv(csv_path, delimiter=';', quotechar='\"', encoding='latin1', usecols=columns_to_select)\n"
          ]
        },
        {
          "output_type": "stream",
          "name": "stdout",
          "text": [
            "Archivos extraídos de 2018-5.zip correctamente. Quedan 58 archivos por extraer.\n"
          ]
        },
        {
          "output_type": "stream",
          "name": "stderr",
          "text": [
            "<ipython-input-105-43db1844578f>:43: DtypeWarning: Columns (69,73,74) have mixed types. Specify dtype option on import or set low_memory=False.\n",
            "  df = pd.read_csv(csv_path, delimiter=';', quotechar='\"', encoding='latin1', usecols=columns_to_select)\n"
          ]
        },
        {
          "output_type": "stream",
          "name": "stdout",
          "text": [
            "Archivos extraídos de 2018-6.zip correctamente. Quedan 57 archivos por extraer.\n"
          ]
        },
        {
          "output_type": "stream",
          "name": "stderr",
          "text": [
            "<ipython-input-105-43db1844578f>:43: DtypeWarning: Columns (69,73,74,75) have mixed types. Specify dtype option on import or set low_memory=False.\n",
            "  df = pd.read_csv(csv_path, delimiter=';', quotechar='\"', encoding='latin1', usecols=columns_to_select)\n"
          ]
        },
        {
          "output_type": "stream",
          "name": "stdout",
          "text": [
            "Archivos extraídos de 2018-7.zip correctamente. Quedan 56 archivos por extraer.\n"
          ]
        },
        {
          "output_type": "stream",
          "name": "stderr",
          "text": [
            "<ipython-input-105-43db1844578f>:43: DtypeWarning: Columns (73,74) have mixed types. Specify dtype option on import or set low_memory=False.\n",
            "  df = pd.read_csv(csv_path, delimiter=';', quotechar='\"', encoding='latin1', usecols=columns_to_select)\n"
          ]
        },
        {
          "output_type": "stream",
          "name": "stdout",
          "text": [
            "Archivos extraídos de 2018-8.zip correctamente. Quedan 55 archivos por extraer.\n"
          ]
        },
        {
          "output_type": "stream",
          "name": "stderr",
          "text": [
            "<ipython-input-105-43db1844578f>:43: DtypeWarning: Columns (74) have mixed types. Specify dtype option on import or set low_memory=False.\n",
            "  df = pd.read_csv(csv_path, delimiter=';', quotechar='\"', encoding='latin1', usecols=columns_to_select)\n"
          ]
        },
        {
          "output_type": "stream",
          "name": "stdout",
          "text": [
            "Archivos extraídos de 2018-9.zip correctamente. Quedan 54 archivos por extraer.\n"
          ]
        },
        {
          "output_type": "stream",
          "name": "stderr",
          "text": [
            "<ipython-input-105-43db1844578f>:43: DtypeWarning: Columns (73,74) have mixed types. Specify dtype option on import or set low_memory=False.\n",
            "  df = pd.read_csv(csv_path, delimiter=';', quotechar='\"', encoding='latin1', usecols=columns_to_select)\n"
          ]
        },
        {
          "output_type": "stream",
          "name": "stdout",
          "text": [
            "Archivos extraídos de 2019-1.zip correctamente. Quedan 53 archivos por extraer.\n"
          ]
        },
        {
          "output_type": "stream",
          "name": "stderr",
          "text": [
            "<ipython-input-105-43db1844578f>:43: DtypeWarning: Columns (74) have mixed types. Specify dtype option on import or set low_memory=False.\n",
            "  df = pd.read_csv(csv_path, delimiter=';', quotechar='\"', encoding='latin1', usecols=columns_to_select)\n"
          ]
        },
        {
          "output_type": "stream",
          "name": "stdout",
          "text": [
            "Archivos extraídos de 2019-10.zip correctamente. Quedan 52 archivos por extraer.\n"
          ]
        },
        {
          "output_type": "stream",
          "name": "stderr",
          "text": [
            "<ipython-input-105-43db1844578f>:43: DtypeWarning: Columns (74) have mixed types. Specify dtype option on import or set low_memory=False.\n",
            "  df = pd.read_csv(csv_path, delimiter=';', quotechar='\"', encoding='latin1', usecols=columns_to_select)\n"
          ]
        },
        {
          "output_type": "stream",
          "name": "stdout",
          "text": [
            "Archivos extraídos de 2019-11.zip correctamente. Quedan 51 archivos por extraer.\n"
          ]
        },
        {
          "output_type": "stream",
          "name": "stderr",
          "text": [
            "<ipython-input-105-43db1844578f>:43: DtypeWarning: Columns (74) have mixed types. Specify dtype option on import or set low_memory=False.\n",
            "  df = pd.read_csv(csv_path, delimiter=';', quotechar='\"', encoding='latin1', usecols=columns_to_select)\n"
          ]
        },
        {
          "output_type": "stream",
          "name": "stdout",
          "text": [
            "Archivos extraídos de 2019-12.zip correctamente. Quedan 50 archivos por extraer.\n"
          ]
        },
        {
          "output_type": "stream",
          "name": "stderr",
          "text": [
            "<ipython-input-105-43db1844578f>:43: DtypeWarning: Columns (74) have mixed types. Specify dtype option on import or set low_memory=False.\n",
            "  df = pd.read_csv(csv_path, delimiter=';', quotechar='\"', encoding='latin1', usecols=columns_to_select)\n"
          ]
        },
        {
          "output_type": "stream",
          "name": "stdout",
          "text": [
            "Archivos extraídos de 2019-2.zip correctamente. Quedan 49 archivos por extraer.\n"
          ]
        },
        {
          "output_type": "stream",
          "name": "stderr",
          "text": [
            "<ipython-input-105-43db1844578f>:43: DtypeWarning: Columns (74) have mixed types. Specify dtype option on import or set low_memory=False.\n",
            "  df = pd.read_csv(csv_path, delimiter=';', quotechar='\"', encoding='latin1', usecols=columns_to_select)\n"
          ]
        },
        {
          "output_type": "stream",
          "name": "stdout",
          "text": [
            "Archivos extraídos de 2019-3.zip correctamente. Quedan 48 archivos por extraer.\n"
          ]
        },
        {
          "output_type": "stream",
          "name": "stderr",
          "text": [
            "<ipython-input-105-43db1844578f>:43: DtypeWarning: Columns (74) have mixed types. Specify dtype option on import or set low_memory=False.\n",
            "  df = pd.read_csv(csv_path, delimiter=';', quotechar='\"', encoding='latin1', usecols=columns_to_select)\n"
          ]
        },
        {
          "output_type": "stream",
          "name": "stdout",
          "text": [
            "Archivos extraídos de 2019-4.zip correctamente. Quedan 47 archivos por extraer.\n"
          ]
        },
        {
          "output_type": "stream",
          "name": "stderr",
          "text": [
            "<ipython-input-105-43db1844578f>:43: DtypeWarning: Columns (74) have mixed types. Specify dtype option on import or set low_memory=False.\n",
            "  df = pd.read_csv(csv_path, delimiter=';', quotechar='\"', encoding='latin1', usecols=columns_to_select)\n"
          ]
        },
        {
          "output_type": "stream",
          "name": "stdout",
          "text": [
            "Archivos extraídos de 2019-5.zip correctamente. Quedan 46 archivos por extraer.\n"
          ]
        },
        {
          "output_type": "stream",
          "name": "stderr",
          "text": [
            "<ipython-input-105-43db1844578f>:43: DtypeWarning: Columns (74) have mixed types. Specify dtype option on import or set low_memory=False.\n",
            "  df = pd.read_csv(csv_path, delimiter=';', quotechar='\"', encoding='latin1', usecols=columns_to_select)\n"
          ]
        },
        {
          "output_type": "stream",
          "name": "stdout",
          "text": [
            "Archivos extraídos de 2019-6.zip correctamente. Quedan 45 archivos por extraer.\n"
          ]
        },
        {
          "output_type": "stream",
          "name": "stderr",
          "text": [
            "<ipython-input-105-43db1844578f>:43: DtypeWarning: Columns (74) have mixed types. Specify dtype option on import or set low_memory=False.\n",
            "  df = pd.read_csv(csv_path, delimiter=';', quotechar='\"', encoding='latin1', usecols=columns_to_select)\n"
          ]
        },
        {
          "output_type": "stream",
          "name": "stdout",
          "text": [
            "Archivos extraídos de 2019-7.zip correctamente. Quedan 44 archivos por extraer.\n"
          ]
        },
        {
          "output_type": "stream",
          "name": "stderr",
          "text": [
            "<ipython-input-105-43db1844578f>:43: DtypeWarning: Columns (74) have mixed types. Specify dtype option on import or set low_memory=False.\n",
            "  df = pd.read_csv(csv_path, delimiter=';', quotechar='\"', encoding='latin1', usecols=columns_to_select)\n"
          ]
        },
        {
          "output_type": "stream",
          "name": "stdout",
          "text": [
            "Archivos extraídos de 2019-8.zip correctamente. Quedan 43 archivos por extraer.\n"
          ]
        },
        {
          "output_type": "stream",
          "name": "stderr",
          "text": [
            "<ipython-input-105-43db1844578f>:43: DtypeWarning: Columns (74) have mixed types. Specify dtype option on import or set low_memory=False.\n",
            "  df = pd.read_csv(csv_path, delimiter=';', quotechar='\"', encoding='latin1', usecols=columns_to_select)\n"
          ]
        },
        {
          "output_type": "stream",
          "name": "stdout",
          "text": [
            "Archivos extraídos de 2019-9.zip correctamente. Quedan 42 archivos por extraer.\n"
          ]
        },
        {
          "output_type": "stream",
          "name": "stderr",
          "text": [
            "<ipython-input-105-43db1844578f>:43: DtypeWarning: Columns (74) have mixed types. Specify dtype option on import or set low_memory=False.\n",
            "  df = pd.read_csv(csv_path, delimiter=';', quotechar='\"', encoding='latin1', usecols=columns_to_select)\n"
          ]
        },
        {
          "output_type": "stream",
          "name": "stdout",
          "text": [
            "Archivos extraídos de 2020-1.zip correctamente. Quedan 41 archivos por extraer.\n"
          ]
        },
        {
          "output_type": "stream",
          "name": "stderr",
          "text": [
            "<ipython-input-105-43db1844578f>:43: DtypeWarning: Columns (74) have mixed types. Specify dtype option on import or set low_memory=False.\n",
            "  df = pd.read_csv(csv_path, delimiter=';', quotechar='\"', encoding='latin1', usecols=columns_to_select)\n"
          ]
        },
        {
          "output_type": "stream",
          "name": "stdout",
          "text": [
            "Archivos extraídos de 2020-10.zip correctamente. Quedan 40 archivos por extraer.\n"
          ]
        },
        {
          "output_type": "stream",
          "name": "stderr",
          "text": [
            "<ipython-input-105-43db1844578f>:43: DtypeWarning: Columns (74) have mixed types. Specify dtype option on import or set low_memory=False.\n",
            "  df = pd.read_csv(csv_path, delimiter=';', quotechar='\"', encoding='latin1', usecols=columns_to_select)\n"
          ]
        },
        {
          "output_type": "stream",
          "name": "stdout",
          "text": [
            "Archivos extraídos de 2020-11.zip correctamente. Quedan 39 archivos por extraer.\n"
          ]
        },
        {
          "output_type": "stream",
          "name": "stderr",
          "text": [
            "<ipython-input-105-43db1844578f>:43: DtypeWarning: Columns (74) have mixed types. Specify dtype option on import or set low_memory=False.\n",
            "  df = pd.read_csv(csv_path, delimiter=';', quotechar='\"', encoding='latin1', usecols=columns_to_select)\n"
          ]
        },
        {
          "output_type": "stream",
          "name": "stdout",
          "text": [
            "Archivos extraídos de 2020-12.zip correctamente. Quedan 38 archivos por extraer.\n"
          ]
        },
        {
          "output_type": "stream",
          "name": "stderr",
          "text": [
            "<ipython-input-105-43db1844578f>:43: DtypeWarning: Columns (74) have mixed types. Specify dtype option on import or set low_memory=False.\n",
            "  df = pd.read_csv(csv_path, delimiter=';', quotechar='\"', encoding='latin1', usecols=columns_to_select)\n"
          ]
        },
        {
          "output_type": "stream",
          "name": "stdout",
          "text": [
            "Archivos extraídos de 2020-2.zip correctamente. Quedan 37 archivos por extraer.\n"
          ]
        },
        {
          "output_type": "stream",
          "name": "stderr",
          "text": [
            "<ipython-input-105-43db1844578f>:43: DtypeWarning: Columns (74) have mixed types. Specify dtype option on import or set low_memory=False.\n",
            "  df = pd.read_csv(csv_path, delimiter=';', quotechar='\"', encoding='latin1', usecols=columns_to_select)\n"
          ]
        },
        {
          "output_type": "stream",
          "name": "stdout",
          "text": [
            "Archivos extraídos de 2020-3.zip correctamente. Quedan 36 archivos por extraer.\n"
          ]
        },
        {
          "output_type": "stream",
          "name": "stderr",
          "text": [
            "<ipython-input-105-43db1844578f>:43: DtypeWarning: Columns (74) have mixed types. Specify dtype option on import or set low_memory=False.\n",
            "  df = pd.read_csv(csv_path, delimiter=';', quotechar='\"', encoding='latin1', usecols=columns_to_select)\n"
          ]
        },
        {
          "output_type": "stream",
          "name": "stdout",
          "text": [
            "Archivos extraídos de 2020-4.zip correctamente. Quedan 35 archivos por extraer.\n"
          ]
        },
        {
          "output_type": "stream",
          "name": "stderr",
          "text": [
            "<ipython-input-105-43db1844578f>:43: DtypeWarning: Columns (74) have mixed types. Specify dtype option on import or set low_memory=False.\n",
            "  df = pd.read_csv(csv_path, delimiter=';', quotechar='\"', encoding='latin1', usecols=columns_to_select)\n"
          ]
        },
        {
          "output_type": "stream",
          "name": "stdout",
          "text": [
            "Archivos extraídos de 2020-5.zip correctamente. Quedan 34 archivos por extraer.\n"
          ]
        },
        {
          "output_type": "stream",
          "name": "stderr",
          "text": [
            "<ipython-input-105-43db1844578f>:43: DtypeWarning: Columns (69,73,74) have mixed types. Specify dtype option on import or set low_memory=False.\n",
            "  df = pd.read_csv(csv_path, delimiter=';', quotechar='\"', encoding='latin1', usecols=columns_to_select)\n"
          ]
        },
        {
          "output_type": "stream",
          "name": "stdout",
          "text": [
            "Archivos extraídos de 2020-6.zip correctamente. Quedan 33 archivos por extraer.\n"
          ]
        },
        {
          "output_type": "stream",
          "name": "stderr",
          "text": [
            "<ipython-input-105-43db1844578f>:43: DtypeWarning: Columns (74) have mixed types. Specify dtype option on import or set low_memory=False.\n",
            "  df = pd.read_csv(csv_path, delimiter=';', quotechar='\"', encoding='latin1', usecols=columns_to_select)\n"
          ]
        },
        {
          "output_type": "stream",
          "name": "stdout",
          "text": [
            "Archivos extraídos de 2020-7.zip correctamente. Quedan 32 archivos por extraer.\n"
          ]
        },
        {
          "output_type": "stream",
          "name": "stderr",
          "text": [
            "<ipython-input-105-43db1844578f>:43: DtypeWarning: Columns (74) have mixed types. Specify dtype option on import or set low_memory=False.\n",
            "  df = pd.read_csv(csv_path, delimiter=';', quotechar='\"', encoding='latin1', usecols=columns_to_select)\n"
          ]
        },
        {
          "output_type": "stream",
          "name": "stdout",
          "text": [
            "Archivos extraídos de 2020-8.zip correctamente. Quedan 31 archivos por extraer.\n"
          ]
        },
        {
          "output_type": "stream",
          "name": "stderr",
          "text": [
            "<ipython-input-105-43db1844578f>:43: DtypeWarning: Columns (74) have mixed types. Specify dtype option on import or set low_memory=False.\n",
            "  df = pd.read_csv(csv_path, delimiter=';', quotechar='\"', encoding='latin1', usecols=columns_to_select)\n"
          ]
        },
        {
          "output_type": "stream",
          "name": "stdout",
          "text": [
            "Archivos extraídos de 2020-9.zip correctamente. Quedan 30 archivos por extraer.\n"
          ]
        },
        {
          "output_type": "stream",
          "name": "stderr",
          "text": [
            "<ipython-input-105-43db1844578f>:43: DtypeWarning: Columns (74) have mixed types. Specify dtype option on import or set low_memory=False.\n",
            "  df = pd.read_csv(csv_path, delimiter=';', quotechar='\"', encoding='latin1', usecols=columns_to_select)\n"
          ]
        },
        {
          "output_type": "stream",
          "name": "stdout",
          "text": [
            "Archivos extraídos de 2021-1.zip correctamente. Quedan 29 archivos por extraer.\n"
          ]
        },
        {
          "output_type": "stream",
          "name": "stderr",
          "text": [
            "<ipython-input-105-43db1844578f>:43: DtypeWarning: Columns (74) have mixed types. Specify dtype option on import or set low_memory=False.\n",
            "  df = pd.read_csv(csv_path, delimiter=';', quotechar='\"', encoding='latin1', usecols=columns_to_select)\n"
          ]
        },
        {
          "output_type": "stream",
          "name": "stdout",
          "text": [
            "Archivos extraídos de 2021-10.zip correctamente. Quedan 28 archivos por extraer.\n"
          ]
        },
        {
          "output_type": "stream",
          "name": "stderr",
          "text": [
            "<ipython-input-105-43db1844578f>:43: DtypeWarning: Columns (73,74) have mixed types. Specify dtype option on import or set low_memory=False.\n",
            "  df = pd.read_csv(csv_path, delimiter=';', quotechar='\"', encoding='latin1', usecols=columns_to_select)\n"
          ]
        },
        {
          "output_type": "stream",
          "name": "stdout",
          "text": [
            "Archivos extraídos de 2021-11.zip correctamente. Quedan 27 archivos por extraer.\n"
          ]
        },
        {
          "output_type": "stream",
          "name": "stderr",
          "text": [
            "<ipython-input-105-43db1844578f>:43: DtypeWarning: Columns (73,74) have mixed types. Specify dtype option on import or set low_memory=False.\n",
            "  df = pd.read_csv(csv_path, delimiter=';', quotechar='\"', encoding='latin1', usecols=columns_to_select)\n"
          ]
        },
        {
          "output_type": "stream",
          "name": "stdout",
          "text": [
            "Archivos extraídos de 2021-12.zip correctamente. Quedan 26 archivos por extraer.\n"
          ]
        },
        {
          "output_type": "stream",
          "name": "stderr",
          "text": [
            "<ipython-input-105-43db1844578f>:43: DtypeWarning: Columns (73,74) have mixed types. Specify dtype option on import or set low_memory=False.\n",
            "  df = pd.read_csv(csv_path, delimiter=';', quotechar='\"', encoding='latin1', usecols=columns_to_select)\n"
          ]
        },
        {
          "output_type": "stream",
          "name": "stdout",
          "text": [
            "Archivos extraídos de 2021-2.zip correctamente. Quedan 25 archivos por extraer.\n"
          ]
        },
        {
          "output_type": "stream",
          "name": "stderr",
          "text": [
            "<ipython-input-105-43db1844578f>:43: DtypeWarning: Columns (74) have mixed types. Specify dtype option on import or set low_memory=False.\n",
            "  df = pd.read_csv(csv_path, delimiter=';', quotechar='\"', encoding='latin1', usecols=columns_to_select)\n"
          ]
        },
        {
          "output_type": "stream",
          "name": "stdout",
          "text": [
            "Archivos extraídos de 2021-3.zip correctamente. Quedan 24 archivos por extraer.\n"
          ]
        },
        {
          "output_type": "stream",
          "name": "stderr",
          "text": [
            "<ipython-input-105-43db1844578f>:43: DtypeWarning: Columns (73,74) have mixed types. Specify dtype option on import or set low_memory=False.\n",
            "  df = pd.read_csv(csv_path, delimiter=';', quotechar='\"', encoding='latin1', usecols=columns_to_select)\n"
          ]
        },
        {
          "output_type": "stream",
          "name": "stdout",
          "text": [
            "Archivos extraídos de 2021-4.zip correctamente. Quedan 23 archivos por extraer.\n"
          ]
        },
        {
          "output_type": "stream",
          "name": "stderr",
          "text": [
            "<ipython-input-105-43db1844578f>:43: DtypeWarning: Columns (73,74) have mixed types. Specify dtype option on import or set low_memory=False.\n",
            "  df = pd.read_csv(csv_path, delimiter=';', quotechar='\"', encoding='latin1', usecols=columns_to_select)\n"
          ]
        },
        {
          "output_type": "stream",
          "name": "stdout",
          "text": [
            "Archivos extraídos de 2021-5.zip correctamente. Quedan 22 archivos por extraer.\n"
          ]
        },
        {
          "output_type": "stream",
          "name": "stderr",
          "text": [
            "<ipython-input-105-43db1844578f>:43: DtypeWarning: Columns (69,72,73,74,76) have mixed types. Specify dtype option on import or set low_memory=False.\n",
            "  df = pd.read_csv(csv_path, delimiter=';', quotechar='\"', encoding='latin1', usecols=columns_to_select)\n"
          ]
        },
        {
          "output_type": "stream",
          "name": "stdout",
          "text": [
            "Archivos extraídos de 2021-6.zip correctamente. Quedan 21 archivos por extraer.\n"
          ]
        },
        {
          "output_type": "stream",
          "name": "stderr",
          "text": [
            "<ipython-input-105-43db1844578f>:43: DtypeWarning: Columns (73,74) have mixed types. Specify dtype option on import or set low_memory=False.\n",
            "  df = pd.read_csv(csv_path, delimiter=';', quotechar='\"', encoding='latin1', usecols=columns_to_select)\n"
          ]
        },
        {
          "output_type": "stream",
          "name": "stdout",
          "text": [
            "Archivos extraídos de 2021-7.zip correctamente. Quedan 20 archivos por extraer.\n"
          ]
        },
        {
          "output_type": "stream",
          "name": "stderr",
          "text": [
            "<ipython-input-105-43db1844578f>:43: DtypeWarning: Columns (73,74) have mixed types. Specify dtype option on import or set low_memory=False.\n",
            "  df = pd.read_csv(csv_path, delimiter=';', quotechar='\"', encoding='latin1', usecols=columns_to_select)\n"
          ]
        },
        {
          "output_type": "stream",
          "name": "stdout",
          "text": [
            "Archivos extraídos de 2021-8.zip correctamente. Quedan 19 archivos por extraer.\n"
          ]
        },
        {
          "output_type": "stream",
          "name": "stderr",
          "text": [
            "<ipython-input-105-43db1844578f>:43: DtypeWarning: Columns (73,74) have mixed types. Specify dtype option on import or set low_memory=False.\n",
            "  df = pd.read_csv(csv_path, delimiter=';', quotechar='\"', encoding='latin1', usecols=columns_to_select)\n"
          ]
        },
        {
          "output_type": "stream",
          "name": "stdout",
          "text": [
            "Archivos extraídos de 2021-9.zip correctamente. Quedan 18 archivos por extraer.\n"
          ]
        },
        {
          "output_type": "stream",
          "name": "stderr",
          "text": [
            "<ipython-input-105-43db1844578f>:43: DtypeWarning: Columns (73,74) have mixed types. Specify dtype option on import or set low_memory=False.\n",
            "  df = pd.read_csv(csv_path, delimiter=';', quotechar='\"', encoding='latin1', usecols=columns_to_select)\n"
          ]
        },
        {
          "output_type": "stream",
          "name": "stdout",
          "text": [
            "Archivos extraídos de 2022-1.zip correctamente. Quedan 17 archivos por extraer.\n"
          ]
        },
        {
          "output_type": "stream",
          "name": "stderr",
          "text": [
            "<ipython-input-105-43db1844578f>:43: DtypeWarning: Columns (73,74) have mixed types. Specify dtype option on import or set low_memory=False.\n",
            "  df = pd.read_csv(csv_path, delimiter=';', quotechar='\"', encoding='latin1', usecols=columns_to_select)\n"
          ]
        },
        {
          "output_type": "stream",
          "name": "stdout",
          "text": [
            "Archivos extraídos de 2022-10.zip correctamente. Quedan 16 archivos por extraer.\n"
          ]
        },
        {
          "output_type": "stream",
          "name": "stderr",
          "text": [
            "<ipython-input-105-43db1844578f>:43: DtypeWarning: Columns (73,74) have mixed types. Specify dtype option on import or set low_memory=False.\n",
            "  df = pd.read_csv(csv_path, delimiter=';', quotechar='\"', encoding='latin1', usecols=columns_to_select)\n"
          ]
        },
        {
          "output_type": "stream",
          "name": "stdout",
          "text": [
            "Archivos extraídos de 2022-11.zip correctamente. Quedan 15 archivos por extraer.\n"
          ]
        },
        {
          "output_type": "stream",
          "name": "stderr",
          "text": [
            "<ipython-input-105-43db1844578f>:43: DtypeWarning: Columns (73,74) have mixed types. Specify dtype option on import or set low_memory=False.\n",
            "  df = pd.read_csv(csv_path, delimiter=';', quotechar='\"', encoding='latin1', usecols=columns_to_select)\n"
          ]
        },
        {
          "output_type": "stream",
          "name": "stdout",
          "text": [
            "Archivos extraídos de 2022-12.zip correctamente. Quedan 14 archivos por extraer.\n"
          ]
        },
        {
          "output_type": "stream",
          "name": "stderr",
          "text": [
            "<ipython-input-105-43db1844578f>:43: DtypeWarning: Columns (73,74) have mixed types. Specify dtype option on import or set low_memory=False.\n",
            "  df = pd.read_csv(csv_path, delimiter=';', quotechar='\"', encoding='latin1', usecols=columns_to_select)\n"
          ]
        },
        {
          "output_type": "stream",
          "name": "stdout",
          "text": [
            "Archivos extraídos de 2022-2.zip correctamente. Quedan 13 archivos por extraer.\n"
          ]
        },
        {
          "output_type": "stream",
          "name": "stderr",
          "text": [
            "<ipython-input-105-43db1844578f>:43: DtypeWarning: Columns (73,74) have mixed types. Specify dtype option on import or set low_memory=False.\n",
            "  df = pd.read_csv(csv_path, delimiter=';', quotechar='\"', encoding='latin1', usecols=columns_to_select)\n"
          ]
        },
        {
          "output_type": "stream",
          "name": "stdout",
          "text": [
            "Archivos extraídos de 2022-3.zip correctamente. Quedan 12 archivos por extraer.\n"
          ]
        },
        {
          "output_type": "stream",
          "name": "stderr",
          "text": [
            "<ipython-input-105-43db1844578f>:43: DtypeWarning: Columns (73,74) have mixed types. Specify dtype option on import or set low_memory=False.\n",
            "  df = pd.read_csv(csv_path, delimiter=';', quotechar='\"', encoding='latin1', usecols=columns_to_select)\n"
          ]
        },
        {
          "output_type": "stream",
          "name": "stdout",
          "text": [
            "Archivos extraídos de 2022-4.zip correctamente. Quedan 11 archivos por extraer.\n"
          ]
        },
        {
          "output_type": "stream",
          "name": "stderr",
          "text": [
            "<ipython-input-105-43db1844578f>:43: DtypeWarning: Columns (73,74) have mixed types. Specify dtype option on import or set low_memory=False.\n",
            "  df = pd.read_csv(csv_path, delimiter=';', quotechar='\"', encoding='latin1', usecols=columns_to_select)\n"
          ]
        },
        {
          "output_type": "stream",
          "name": "stdout",
          "text": [
            "Archivos extraídos de 2022-5.zip correctamente. Quedan 10 archivos por extraer.\n"
          ]
        },
        {
          "output_type": "stream",
          "name": "stderr",
          "text": [
            "<ipython-input-105-43db1844578f>:43: DtypeWarning: Columns (73,74) have mixed types. Specify dtype option on import or set low_memory=False.\n",
            "  df = pd.read_csv(csv_path, delimiter=';', quotechar='\"', encoding='latin1', usecols=columns_to_select)\n"
          ]
        },
        {
          "output_type": "stream",
          "name": "stdout",
          "text": [
            "Archivos extraídos de 2022-6.zip correctamente. Quedan 9 archivos por extraer.\n"
          ]
        },
        {
          "output_type": "stream",
          "name": "stderr",
          "text": [
            "<ipython-input-105-43db1844578f>:43: DtypeWarning: Columns (73,74) have mixed types. Specify dtype option on import or set low_memory=False.\n",
            "  df = pd.read_csv(csv_path, delimiter=';', quotechar='\"', encoding='latin1', usecols=columns_to_select)\n"
          ]
        },
        {
          "output_type": "stream",
          "name": "stdout",
          "text": [
            "Archivos extraídos de 2022-7.zip correctamente. Quedan 8 archivos por extraer.\n"
          ]
        },
        {
          "output_type": "stream",
          "name": "stderr",
          "text": [
            "<ipython-input-105-43db1844578f>:43: DtypeWarning: Columns (73,74) have mixed types. Specify dtype option on import or set low_memory=False.\n",
            "  df = pd.read_csv(csv_path, delimiter=';', quotechar='\"', encoding='latin1', usecols=columns_to_select)\n"
          ]
        },
        {
          "output_type": "stream",
          "name": "stdout",
          "text": [
            "Archivos extraídos de 2022-8.zip correctamente. Quedan 7 archivos por extraer.\n"
          ]
        },
        {
          "output_type": "stream",
          "name": "stderr",
          "text": [
            "<ipython-input-105-43db1844578f>:43: DtypeWarning: Columns (73,74) have mixed types. Specify dtype option on import or set low_memory=False.\n",
            "  df = pd.read_csv(csv_path, delimiter=';', quotechar='\"', encoding='latin1', usecols=columns_to_select)\n"
          ]
        },
        {
          "output_type": "stream",
          "name": "stdout",
          "text": [
            "Archivos extraídos de 2022-9.zip correctamente. Quedan 6 archivos por extraer.\n"
          ]
        },
        {
          "output_type": "stream",
          "name": "stderr",
          "text": [
            "<ipython-input-105-43db1844578f>:43: DtypeWarning: Columns (73,74) have mixed types. Specify dtype option on import or set low_memory=False.\n",
            "  df = pd.read_csv(csv_path, delimiter=';', quotechar='\"', encoding='latin1', usecols=columns_to_select)\n"
          ]
        },
        {
          "output_type": "stream",
          "name": "stdout",
          "text": [
            "Archivos extraídos de 2023-1.zip correctamente. Quedan 5 archivos por extraer.\n"
          ]
        },
        {
          "output_type": "stream",
          "name": "stderr",
          "text": [
            "<ipython-input-105-43db1844578f>:43: DtypeWarning: Columns (73,74) have mixed types. Specify dtype option on import or set low_memory=False.\n",
            "  df = pd.read_csv(csv_path, delimiter=';', quotechar='\"', encoding='latin1', usecols=columns_to_select)\n"
          ]
        },
        {
          "output_type": "stream",
          "name": "stdout",
          "text": [
            "Archivos extraídos de 2023-2.zip correctamente. Quedan 4 archivos por extraer.\n"
          ]
        },
        {
          "output_type": "stream",
          "name": "stderr",
          "text": [
            "<ipython-input-105-43db1844578f>:43: DtypeWarning: Columns (73,74) have mixed types. Specify dtype option on import or set low_memory=False.\n",
            "  df = pd.read_csv(csv_path, delimiter=';', quotechar='\"', encoding='latin1', usecols=columns_to_select)\n"
          ]
        },
        {
          "output_type": "stream",
          "name": "stdout",
          "text": [
            "Archivos extraídos de 2023-3.zip correctamente. Quedan 3 archivos por extraer.\n"
          ]
        },
        {
          "output_type": "stream",
          "name": "stderr",
          "text": [
            "<ipython-input-105-43db1844578f>:43: DtypeWarning: Columns (74) have mixed types. Specify dtype option on import or set low_memory=False.\n",
            "  df = pd.read_csv(csv_path, delimiter=';', quotechar='\"', encoding='latin1', usecols=columns_to_select)\n"
          ]
        },
        {
          "output_type": "stream",
          "name": "stdout",
          "text": [
            "Archivos extraídos de 2023-4.zip correctamente. Quedan 2 archivos por extraer.\n"
          ]
        },
        {
          "output_type": "stream",
          "name": "stderr",
          "text": [
            "<ipython-input-105-43db1844578f>:43: DtypeWarning: Columns (73,74) have mixed types. Specify dtype option on import or set low_memory=False.\n",
            "  df = pd.read_csv(csv_path, delimiter=';', quotechar='\"', encoding='latin1', usecols=columns_to_select)\n"
          ]
        },
        {
          "output_type": "stream",
          "name": "stdout",
          "text": [
            "Archivos extraídos de 2023-5.zip correctamente. Quedan 1 archivos por extraer.\n"
          ]
        },
        {
          "output_type": "stream",
          "name": "stderr",
          "text": [
            "<ipython-input-105-43db1844578f>:43: DtypeWarning: Columns (74) have mixed types. Specify dtype option on import or set low_memory=False.\n",
            "  df = pd.read_csv(csv_path, delimiter=';', quotechar='\"', encoding='latin1', usecols=columns_to_select)\n"
          ]
        },
        {
          "output_type": "stream",
          "name": "stdout",
          "text": [
            "Archivos extraídos de 2023-6.zip correctamente. Quedan 0 archivos por extraer.\n"
          ]
        },
        {
          "output_type": "stream",
          "name": "stderr",
          "text": [
            "<ipython-input-105-43db1844578f>:43: DtypeWarning: Columns (74) have mixed types. Specify dtype option on import or set low_memory=False.\n",
            "  df = pd.read_csv(csv_path, delimiter=';', quotechar='\"', encoding='latin1', usecols=columns_to_select)\n"
          ]
        },
        {
          "output_type": "stream",
          "name": "stdout",
          "text": [
            "Procesamiento completo. Archivo guardado como datos_completos.csv.\n"
          ]
        }
      ]
    },
    {
      "cell_type": "code",
      "source": [
        "df_complete.head(5)"
      ],
      "metadata": {
        "colab": {
          "base_uri": "https://localhost:8080/",
          "height": 646
        },
        "id": "MgV7lcrg_shW",
        "outputId": "76be1f8b-593d-47a0-8bf5-d474454347b9"
      },
      "execution_count": null,
      "outputs": [
        {
          "output_type": "execute_result",
          "data": {
            "text/plain": [
              "         ID tieneItems  codigoCategoria  \\\n",
              "0  19383830          1       50202300.0   \n",
              "1  20369920          1       50193000.0   \n",
              "2  20370617          1       50193000.0   \n",
              "3  20639049          1       50111500.0   \n",
              "4  20837549          1       50181900.0   \n",
              "\n",
              "                                           Categoria  codigoProductoONU  \\\n",
              "0  Alimentos, bebidas y tabaco / Bebidas / Bebida...         50202301.0   \n",
              "1  Alimentos, bebidas y tabaco / Alimentos prepar...         50193001.0   \n",
              "2  Alimentos, bebidas y tabaco / Alimentos prepar...         50193001.0   \n",
              "3  Alimentos, bebidas y tabaco / Productos de car...         50111510.0   \n",
              "4  Alimentos, bebidas y tabaco / Productos de pan...         50181901.0   \n",
              "\n",
              "         NombreroductoGenerico  \\\n",
              "0                         Agua   \n",
              "1            Comida para bebés   \n",
              "2            Comida para bebés   \n",
              "3  Carne de ave o carne fresca   \n",
              "4                   Pan fresco   \n",
              "\n",
              "                             EspecificacionComprador  \\\n",
              "0  consumo de agua potable en el jardin infantil ...   \n",
              "1                                                NaN   \n",
              "2                                                NaN   \n",
              "3  Lomo Liso.  Solicitado por Subdireccion de Ges...   \n",
              "4  Pan corriente y rallado para el Instituto Psiq...   \n",
              "\n",
              "                             EspecificacionProveedor cantidad  \\\n",
              "0  consumo de agua potable en el jardin infantil ...        1   \n",
              "1        LECHE NIDO TARRO 1.600 GRAMOS, SEGUN PEDIDO        1   \n",
              "2               NAN   TARRO 900 GRAMOS, SEGUN PEDIDO        3   \n",
              "3                                                NaN        7   \n",
              "4                                                NaN   1574,5   \n",
              "\n",
              "         UnidadMedida  ... precioNeto totalCargos totalDescuentos  \\\n",
              "0  Unidad no definida  ...       9400         0.0               0   \n",
              "1              Unidad  ...       6697         0.0               0   \n",
              "2               Tarro  ...      12588         0.0               0   \n",
              "3           kilogramo  ...       6500         0.0               0   \n",
              "4  Unidad no definida  ...        630         0.0               0   \n",
              "\n",
              "  totalImpuestos totalLineaNeto FechaCreacion fechaUltimaModificacion  \\\n",
              "0              0           9400    2012-02-06              2012-02-06   \n",
              "1              0           6697    2012-06-21              2012-06-21   \n",
              "2              0          37764    2012-06-21              2012-06-21   \n",
              "3              0          45500    2012-07-30              2012-07-30   \n",
              "4              0         991935    2012-08-24              2012-08-31   \n",
              "\n",
              "            Codigo                      RubroN1  \\\n",
              "0    3593-116-SE12  Alimentos, bebidas y tabaco   \n",
              "1  581716-862-SE12  Alimentos, bebidas y tabaco   \n",
              "2  581716-863-SE12  Alimentos, bebidas y tabaco   \n",
              "3    1373-979-SE12  Alimentos, bebidas y tabaco   \n",
              "4   1373-1096-SE12  Alimentos, bebidas y tabaco   \n",
              "\n",
              "                             RubroN3  \n",
              "0             Bebidas no alcohólicas  \n",
              "1       Bebidas y comidas infantiles  \n",
              "2       Bebidas y comidas infantiles  \n",
              "3            Carnes y aves de corral  \n",
              "4  Pan, galletas y pastelitos dulces  \n",
              "\n",
              "[5 rows x 21 columns]"
            ],
            "text/html": [
              "\n",
              "  <div id=\"df-7d26e42b-57fa-4b7e-8328-e4997ea04c76\">\n",
              "    <div class=\"colab-df-container\">\n",
              "      <div>\n",
              "<style scoped>\n",
              "    .dataframe tbody tr th:only-of-type {\n",
              "        vertical-align: middle;\n",
              "    }\n",
              "\n",
              "    .dataframe tbody tr th {\n",
              "        vertical-align: top;\n",
              "    }\n",
              "\n",
              "    .dataframe thead th {\n",
              "        text-align: right;\n",
              "    }\n",
              "</style>\n",
              "<table border=\"1\" class=\"dataframe\">\n",
              "  <thead>\n",
              "    <tr style=\"text-align: right;\">\n",
              "      <th></th>\n",
              "      <th>ID</th>\n",
              "      <th>tieneItems</th>\n",
              "      <th>codigoCategoria</th>\n",
              "      <th>Categoria</th>\n",
              "      <th>codigoProductoONU</th>\n",
              "      <th>NombreroductoGenerico</th>\n",
              "      <th>EspecificacionComprador</th>\n",
              "      <th>EspecificacionProveedor</th>\n",
              "      <th>cantidad</th>\n",
              "      <th>UnidadMedida</th>\n",
              "      <th>...</th>\n",
              "      <th>precioNeto</th>\n",
              "      <th>totalCargos</th>\n",
              "      <th>totalDescuentos</th>\n",
              "      <th>totalImpuestos</th>\n",
              "      <th>totalLineaNeto</th>\n",
              "      <th>FechaCreacion</th>\n",
              "      <th>fechaUltimaModificacion</th>\n",
              "      <th>Codigo</th>\n",
              "      <th>RubroN1</th>\n",
              "      <th>RubroN3</th>\n",
              "    </tr>\n",
              "  </thead>\n",
              "  <tbody>\n",
              "    <tr>\n",
              "      <th>0</th>\n",
              "      <td>19383830</td>\n",
              "      <td>1</td>\n",
              "      <td>50202300.0</td>\n",
              "      <td>Alimentos, bebidas y tabaco / Bebidas / Bebida...</td>\n",
              "      <td>50202301.0</td>\n",
              "      <td>Agua</td>\n",
              "      <td>consumo de agua potable en el jardin infantil ...</td>\n",
              "      <td>consumo de agua potable en el jardin infantil ...</td>\n",
              "      <td>1</td>\n",
              "      <td>Unidad no definida</td>\n",
              "      <td>...</td>\n",
              "      <td>9400</td>\n",
              "      <td>0.0</td>\n",
              "      <td>0</td>\n",
              "      <td>0</td>\n",
              "      <td>9400</td>\n",
              "      <td>2012-02-06</td>\n",
              "      <td>2012-02-06</td>\n",
              "      <td>3593-116-SE12</td>\n",
              "      <td>Alimentos, bebidas y tabaco</td>\n",
              "      <td>Bebidas no alcohólicas</td>\n",
              "    </tr>\n",
              "    <tr>\n",
              "      <th>1</th>\n",
              "      <td>20369920</td>\n",
              "      <td>1</td>\n",
              "      <td>50193000.0</td>\n",
              "      <td>Alimentos, bebidas y tabaco / Alimentos prepar...</td>\n",
              "      <td>50193001.0</td>\n",
              "      <td>Comida para bebés</td>\n",
              "      <td>NaN</td>\n",
              "      <td>LECHE NIDO TARRO 1.600 GRAMOS, SEGUN PEDIDO</td>\n",
              "      <td>1</td>\n",
              "      <td>Unidad</td>\n",
              "      <td>...</td>\n",
              "      <td>6697</td>\n",
              "      <td>0.0</td>\n",
              "      <td>0</td>\n",
              "      <td>0</td>\n",
              "      <td>6697</td>\n",
              "      <td>2012-06-21</td>\n",
              "      <td>2012-06-21</td>\n",
              "      <td>581716-862-SE12</td>\n",
              "      <td>Alimentos, bebidas y tabaco</td>\n",
              "      <td>Bebidas y comidas infantiles</td>\n",
              "    </tr>\n",
              "    <tr>\n",
              "      <th>2</th>\n",
              "      <td>20370617</td>\n",
              "      <td>1</td>\n",
              "      <td>50193000.0</td>\n",
              "      <td>Alimentos, bebidas y tabaco / Alimentos prepar...</td>\n",
              "      <td>50193001.0</td>\n",
              "      <td>Comida para bebés</td>\n",
              "      <td>NaN</td>\n",
              "      <td>NAN   TARRO 900 GRAMOS, SEGUN PEDIDO</td>\n",
              "      <td>3</td>\n",
              "      <td>Tarro</td>\n",
              "      <td>...</td>\n",
              "      <td>12588</td>\n",
              "      <td>0.0</td>\n",
              "      <td>0</td>\n",
              "      <td>0</td>\n",
              "      <td>37764</td>\n",
              "      <td>2012-06-21</td>\n",
              "      <td>2012-06-21</td>\n",
              "      <td>581716-863-SE12</td>\n",
              "      <td>Alimentos, bebidas y tabaco</td>\n",
              "      <td>Bebidas y comidas infantiles</td>\n",
              "    </tr>\n",
              "    <tr>\n",
              "      <th>3</th>\n",
              "      <td>20639049</td>\n",
              "      <td>1</td>\n",
              "      <td>50111500.0</td>\n",
              "      <td>Alimentos, bebidas y tabaco / Productos de car...</td>\n",
              "      <td>50111510.0</td>\n",
              "      <td>Carne de ave o carne fresca</td>\n",
              "      <td>Lomo Liso.  Solicitado por Subdireccion de Ges...</td>\n",
              "      <td>NaN</td>\n",
              "      <td>7</td>\n",
              "      <td>kilogramo</td>\n",
              "      <td>...</td>\n",
              "      <td>6500</td>\n",
              "      <td>0.0</td>\n",
              "      <td>0</td>\n",
              "      <td>0</td>\n",
              "      <td>45500</td>\n",
              "      <td>2012-07-30</td>\n",
              "      <td>2012-07-30</td>\n",
              "      <td>1373-979-SE12</td>\n",
              "      <td>Alimentos, bebidas y tabaco</td>\n",
              "      <td>Carnes y aves de corral</td>\n",
              "    </tr>\n",
              "    <tr>\n",
              "      <th>4</th>\n",
              "      <td>20837549</td>\n",
              "      <td>1</td>\n",
              "      <td>50181900.0</td>\n",
              "      <td>Alimentos, bebidas y tabaco / Productos de pan...</td>\n",
              "      <td>50181901.0</td>\n",
              "      <td>Pan fresco</td>\n",
              "      <td>Pan corriente y rallado para el Instituto Psiq...</td>\n",
              "      <td>NaN</td>\n",
              "      <td>1574,5</td>\n",
              "      <td>Unidad no definida</td>\n",
              "      <td>...</td>\n",
              "      <td>630</td>\n",
              "      <td>0.0</td>\n",
              "      <td>0</td>\n",
              "      <td>0</td>\n",
              "      <td>991935</td>\n",
              "      <td>2012-08-24</td>\n",
              "      <td>2012-08-31</td>\n",
              "      <td>1373-1096-SE12</td>\n",
              "      <td>Alimentos, bebidas y tabaco</td>\n",
              "      <td>Pan, galletas y pastelitos dulces</td>\n",
              "    </tr>\n",
              "  </tbody>\n",
              "</table>\n",
              "<p>5 rows × 21 columns</p>\n",
              "</div>\n",
              "      <button class=\"colab-df-convert\" onclick=\"convertToInteractive('df-7d26e42b-57fa-4b7e-8328-e4997ea04c76')\"\n",
              "              title=\"Convert this dataframe to an interactive table.\"\n",
              "              style=\"display:none;\">\n",
              "        \n",
              "  <svg xmlns=\"http://www.w3.org/2000/svg\" height=\"24px\"viewBox=\"0 0 24 24\"\n",
              "       width=\"24px\">\n",
              "    <path d=\"M0 0h24v24H0V0z\" fill=\"none\"/>\n",
              "    <path d=\"M18.56 5.44l.94 2.06.94-2.06 2.06-.94-2.06-.94-.94-2.06-.94 2.06-2.06.94zm-11 1L8.5 8.5l.94-2.06 2.06-.94-2.06-.94L8.5 2.5l-.94 2.06-2.06.94zm10 10l.94 2.06.94-2.06 2.06-.94-2.06-.94-.94-2.06-.94 2.06-2.06.94z\"/><path d=\"M17.41 7.96l-1.37-1.37c-.4-.4-.92-.59-1.43-.59-.52 0-1.04.2-1.43.59L10.3 9.45l-7.72 7.72c-.78.78-.78 2.05 0 2.83L4 21.41c.39.39.9.59 1.41.59.51 0 1.02-.2 1.41-.59l7.78-7.78 2.81-2.81c.8-.78.8-2.07 0-2.86zM5.41 20L4 18.59l7.72-7.72 1.47 1.35L5.41 20z\"/>\n",
              "  </svg>\n",
              "      </button>\n",
              "      \n",
              "  <style>\n",
              "    .colab-df-container {\n",
              "      display:flex;\n",
              "      flex-wrap:wrap;\n",
              "      gap: 12px;\n",
              "    }\n",
              "\n",
              "    .colab-df-convert {\n",
              "      background-color: #E8F0FE;\n",
              "      border: none;\n",
              "      border-radius: 50%;\n",
              "      cursor: pointer;\n",
              "      display: none;\n",
              "      fill: #1967D2;\n",
              "      height: 32px;\n",
              "      padding: 0 0 0 0;\n",
              "      width: 32px;\n",
              "    }\n",
              "\n",
              "    .colab-df-convert:hover {\n",
              "      background-color: #E2EBFA;\n",
              "      box-shadow: 0px 1px 2px rgba(60, 64, 67, 0.3), 0px 1px 3px 1px rgba(60, 64, 67, 0.15);\n",
              "      fill: #174EA6;\n",
              "    }\n",
              "\n",
              "    [theme=dark] .colab-df-convert {\n",
              "      background-color: #3B4455;\n",
              "      fill: #D2E3FC;\n",
              "    }\n",
              "\n",
              "    [theme=dark] .colab-df-convert:hover {\n",
              "      background-color: #434B5C;\n",
              "      box-shadow: 0px 1px 3px 1px rgba(0, 0, 0, 0.15);\n",
              "      filter: drop-shadow(0px 1px 2px rgba(0, 0, 0, 0.3));\n",
              "      fill: #FFFFFF;\n",
              "    }\n",
              "  </style>\n",
              "\n",
              "      <script>\n",
              "        const buttonEl =\n",
              "          document.querySelector('#df-7d26e42b-57fa-4b7e-8328-e4997ea04c76 button.colab-df-convert');\n",
              "        buttonEl.style.display =\n",
              "          google.colab.kernel.accessAllowed ? 'block' : 'none';\n",
              "\n",
              "        async function convertToInteractive(key) {\n",
              "          const element = document.querySelector('#df-7d26e42b-57fa-4b7e-8328-e4997ea04c76');\n",
              "          const dataTable =\n",
              "            await google.colab.kernel.invokeFunction('convertToInteractive',\n",
              "                                                     [key], {});\n",
              "          if (!dataTable) return;\n",
              "\n",
              "          const docLinkHtml = 'Like what you see? Visit the ' +\n",
              "            '<a target=\"_blank\" href=https://colab.research.google.com/notebooks/data_table.ipynb>data table notebook</a>'\n",
              "            + ' to learn more about interactive tables.';\n",
              "          element.innerHTML = '';\n",
              "          dataTable['output_type'] = 'display_data';\n",
              "          await google.colab.output.renderOutput(dataTable, element);\n",
              "          const docLink = document.createElement('div');\n",
              "          docLink.innerHTML = docLinkHtml;\n",
              "          element.appendChild(docLink);\n",
              "        }\n",
              "      </script>\n",
              "    </div>\n",
              "  </div>\n",
              "  "
            ]
          },
          "metadata": {},
          "execution_count": 106
        }
      ]
    },
    {
      "cell_type": "code",
      "source": [
        "import os\n",
        "\n",
        "ruta_archivo = '/content/datos_completos.csv'\n",
        "\n",
        "# Obtener el tamaño del archivo en bytes\n",
        "tamanio_bytes = os.path.getsize(ruta_archivo)\n",
        "\n",
        "# Convertir el tamaño a megabytes (MB)\n",
        "tamanio_mb = tamanio_bytes / (1024 * 1024)\n",
        "\n",
        "print(f\"El archivo tiene un tamaño de {tamanio_mb:.2f} MB.\")\n"
      ],
      "metadata": {
        "colab": {
          "base_uri": "https://localhost:8080/"
        },
        "id": "-cb5e7PNCiR6",
        "outputId": "1deea21e-bf53-4c70-e75c-ac9c3370a402"
      },
      "execution_count": null,
      "outputs": [
        {
          "output_type": "stream",
          "name": "stdout",
          "text": [
            "El archivo tiene un tamaño de 2754.21 MB.\n"
          ]
        }
      ]
    },
    {
      "cell_type": "code",
      "source": [
        "df.shape"
      ],
      "metadata": {
        "colab": {
          "base_uri": "https://localhost:8080/"
        },
        "id": "-cBeY-cFDY1o",
        "outputId": "f592acbb-1b7e-4d60-ddc1-b403ca721d52"
      },
      "execution_count": null,
      "outputs": [
        {
          "output_type": "execute_result",
          "data": {
            "text/plain": [
              "(7564084, 21)"
            ]
          },
          "metadata": {},
          "execution_count": 8
        }
      ]
    },
    {
      "cell_type": "markdown",
      "source": [
        "# Advertencia\n",
        "**Si el archivo no se descarga en colab, se recomienda dividir el dataframe en distintas partes y crear distintos archivos csv para cada parte**"
      ],
      "metadata": {
        "id": "YmPSToavLcFT"
      }
    }
  ]
}